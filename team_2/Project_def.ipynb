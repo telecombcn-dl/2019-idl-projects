{
  "nbformat": 4,
  "nbformat_minor": 0,
  "metadata": {
    "colab": {
      "name": "Project_def.ipynb",
      "version": "0.3.2",
      "provenance": [],
      "collapsed_sections": []
    },
    "kernelspec": {
      "name": "python3",
      "display_name": "Python 3"
    }
  },
  "cells": [
    {
      "metadata": {
        "id": "8a2Pv0cAqFn5",
        "colab_type": "text"
      },
      "cell_type": "markdown",
      "source": [
        "# Introduction\n",
        "This project presents a study about how hyperparameters like the **number of convolutional layers** or the **kernel size** may affect the neural network performance. \n",
        "\n",
        "Regarding the number of layers, their relevance is something to take into account, since an oversized or undersized network will lead to overfitting or underfitting and high computing time.\n",
        "\n",
        "Kernel size has an important role as well.The kernel size will define the dimensions of the convolution result. Lowering this hyperparameter implies an improval on the computation time, but also provides a more basic generalization level.\n",
        "\n",
        "The study consists in analyzing the results of the training and evaluation of several architectures with the same dataset, each one different from the other. The experiment finishes with the conclusions obtained from this \n",
        "data.\n",
        "\n"
      ]
    },
    {
      "metadata": {
        "id": "YTe1C5XDclhf",
        "colab_type": "text"
      },
      "cell_type": "markdown",
      "source": [
        "This notebook illustrates the use of convolutional networks for a multiclass classification over the MNIST dataset. This notebook is based on the PyTorch MNIST example: https://github.com/pytorch/examples/tree/master/mnist\n",
        "\n",
        "The MNIST dataset contains handwritten digits like these:\n",
        "\n",
        " ![MNIST samples](https://upload.wikimedia.org/wikipedia/commons/2/27/MnistExamples.png)\n",
        "\n",
        "Each digit is 28x28 pixels and is labeled with the digit it contains, e.g. this is labeled with a \"0\":\n",
        "\n",
        "<img src=\"http://neuralnetworksanddeeplearning.com/images/mnist_complete_zero.png\" width=\"200\">\n"
      ]
    },
    {
      "metadata": {
        "id": "79J6f2D9rV6a",
        "colab_type": "text"
      },
      "cell_type": "markdown",
      "source": [
        "# Metholodogy\n",
        "\n",
        "First of all, the input of the network will be a 28x28 image corresponding to one digit. This image will pass through a convolutional layer with 20 square kernels, each one with size 5x5 and a stride equals to 1. \n",
        "\n",
        "After the convolution process, ReLU function is applied to the output. Then pooling is used to reduce the number of the network features and to ease the whole process reducing computation cost and time. \n",
        "\n",
        "Secondly, the last block is repeated, but its input will be the previous block’s output. The difference is the number kernels of the second layer, 50 in this case. \n",
        "\n",
        "The result of the previous operations is a 4x4 matrix with a 50 channels depth. This means that right now the number of parameters is 800. The usage of the two fully connected layers allows us to reduce this number to the 10 possible outputs.\n",
        "\n",
        "In order to evaluate this system with different hyperparameters, we have designed and trained 9 different networks and we have drawn conclusions based on the comparison of the results given, such as loss, accuracy and execution time.\n",
        "\n"
      ]
    },
    {
      "metadata": {
        "id": "twEfnICvphKM",
        "colab_type": "code",
        "outputId": "4d22ff49-cd08-402b-a909-2fb71189bf21",
        "colab": {
          "base_uri": "https://localhost:8080/",
          "height": 319
        }
      },
      "cell_type": "code",
      "source": [
        "!pip install pillow==5.4.1\n",
        "!pip install matplotlib\n",
        "!pip install scikit-learn\n",
        "!pip install torch\n",
        "!pip install torchvision"
      ],
      "execution_count": 0,
      "outputs": [
        {
          "output_type": "stream",
          "text": [
            "Requirement already satisfied: pillow==5.4.1 in /usr/local/lib/python3.6/dist-packages (5.4.1)\n",
            "Requirement already satisfied: matplotlib in /usr/local/lib/python3.6/dist-packages (3.0.2)\n",
            "Requirement already satisfied: python-dateutil>=2.1 in /usr/local/lib/python3.6/dist-packages (from matplotlib) (2.5.3)\n",
            "Requirement already satisfied: cycler>=0.10 in /usr/local/lib/python3.6/dist-packages (from matplotlib) (0.10.0)\n",
            "Requirement already satisfied: numpy>=1.10.0 in /usr/local/lib/python3.6/dist-packages (from matplotlib) (1.14.6)\n",
            "Requirement already satisfied: pyparsing!=2.0.4,!=2.1.2,!=2.1.6,>=2.0.1 in /usr/local/lib/python3.6/dist-packages (from matplotlib) (2.3.1)\n",
            "Requirement already satisfied: kiwisolver>=1.0.1 in /usr/local/lib/python3.6/dist-packages (from matplotlib) (1.0.1)\n",
            "Requirement already satisfied: six>=1.5 in /usr/local/lib/python3.6/dist-packages (from python-dateutil>=2.1->matplotlib) (1.11.0)\n",
            "Requirement already satisfied: setuptools in /usr/local/lib/python3.6/dist-packages (from kiwisolver>=1.0.1->matplotlib) (40.6.3)\n",
            "Requirement already satisfied: scikit-learn in /usr/local/lib/python3.6/dist-packages (0.20.2)\n",
            "Requirement already satisfied: scipy>=0.13.3 in /usr/local/lib/python3.6/dist-packages (from scikit-learn) (1.1.0)\n",
            "Requirement already satisfied: numpy>=1.8.2 in /usr/local/lib/python3.6/dist-packages (from scikit-learn) (1.14.6)\n",
            "Requirement already satisfied: torch in /usr/local/lib/python3.6/dist-packages (1.0.0)\n",
            "Requirement already satisfied: torchvision in /usr/local/lib/python3.6/dist-packages (0.2.1)\n",
            "Requirement already satisfied: numpy in /usr/local/lib/python3.6/dist-packages (from torchvision) (1.14.6)\n",
            "Requirement already satisfied: torch in /usr/local/lib/python3.6/dist-packages (from torchvision) (1.0.0)\n",
            "Requirement already satisfied: six in /usr/local/lib/python3.6/dist-packages (from torchvision) (1.11.0)\n",
            "Requirement already satisfied: pillow>=4.1.1 in /usr/local/lib/python3.6/dist-packages (from torchvision) (5.4.1)\n"
          ],
          "name": "stdout"
        }
      ]
    },
    {
      "metadata": {
        "id": "VrgRDACmp63p",
        "colab_type": "code",
        "colab": {}
      },
      "cell_type": "code",
      "source": [
        "import matplotlib.pyplot as plt\n",
        "import torch\n",
        "import torch.nn as nn\n",
        "import torch.nn.functional as F\n",
        "import torch.optim as optim\n",
        "from torchvision import datasets, transforms\n",
        "import torchvision\n",
        "import torchvision.transforms as transforms\n",
        "import numpy as np\n",
        "import time"
      ],
      "execution_count": 0,
      "outputs": []
    },
    {
      "metadata": {
        "id": "Oh9JxSFhsctd",
        "colab_type": "code",
        "outputId": "703be826-a5a2-422d-d045-ffaa49ef108e",
        "colab": {
          "base_uri": "https://localhost:8080/",
          "height": 34
        }
      },
      "cell_type": "code",
      "source": [
        "seed = 42\n",
        "np.random.seed(seed)\n",
        "torch.manual_seed(seed)"
      ],
      "execution_count": 0,
      "outputs": [
        {
          "output_type": "execute_result",
          "data": {
            "text/plain": [
              "<torch._C.Generator at 0x7f8cdc305ad0>"
            ]
          },
          "metadata": {
            "tags": []
          },
          "execution_count": 3
        }
      ]
    },
    {
      "metadata": {
        "id": "938hLQzPqHRb",
        "colab_type": "text"
      },
      "cell_type": "markdown",
      "source": [
        "We create a class which extends nn.Module and takes a list of modules as input of the __init__() method to create a ModuleList. \n",
        "Forward function concatenates all previous layers and adds a softmax function at the end."
      ]
    },
    {
      "metadata": {
        "id": "FE8b0Fmxp7ii",
        "colab_type": "code",
        "colab": {}
      },
      "cell_type": "code",
      "source": [
        "class Net(nn.Module):\n",
        "    def __init__(self, layers):\n",
        "      super(Net, self).__init__() \n",
        "      self.layers = nn.ModuleList(layers)\n",
        "\n",
        "    def forward(self, x):\n",
        "      for _,l in enumerate(self.layers):\n",
        "        x = l(x)\n",
        "      return F.log_softmax(x, dim=1)"
      ],
      "execution_count": 0,
      "outputs": []
    },
    {
      "metadata": {
        "id": "ouXEO7kFqiDf",
        "colab_type": "text"
      },
      "cell_type": "markdown",
      "source": [
        "Flatten class to reshape the values and be able to append it to the list of modules."
      ]
    },
    {
      "metadata": {
        "id": "tzjo9RMyqEoq",
        "colab_type": "code",
        "colab": {}
      },
      "cell_type": "code",
      "source": [
        "class Flatten(nn.Module):\n",
        "  def forward(self,x):\n",
        "    x = x.view(-1, x.size()[1]*x.size()[2]*x.size()[3] )\n",
        "    return x"
      ],
      "execution_count": 0,
      "outputs": []
    },
    {
      "metadata": {
        "id": "_WmTYDYqtA0d",
        "colab_type": "text"
      },
      "cell_type": "markdown",
      "source": [
        "Result class to store the data collected from training (model, validation loss, train loss, time)"
      ]
    },
    {
      "metadata": {
        "id": "KYeBR8IK9onf",
        "colab_type": "code",
        "colab": {}
      },
      "cell_type": "code",
      "source": [
        "class Result():\n",
        "  def __init__(self, net, train_loss, val_loss, time):\n",
        "    self.net        = net\n",
        "    self.train_loss = train_loss\n",
        "    self.val_loss   = val_loss\n",
        "    self.time       = time"
      ],
      "execution_count": 0,
      "outputs": []
    },
    {
      "metadata": {
        "id": "vJU6nc6Nq58R",
        "colab_type": "code",
        "colab": {}
      },
      "cell_type": "code",
      "source": [
        "def train(log_interval, model, device, train_loader, optimizer, epoch):\n",
        "    losses = []\n",
        "    model.train()\n",
        "    for batch_idx, (data, target) in enumerate(train_loader):\n",
        "        start_time = time.time()\n",
        "        data, target = data.to(device), target.to(device)\n",
        "        optimizer.zero_grad()\n",
        "        output = model(data)\n",
        "        loss = F.nll_loss(output, target)\n",
        "        loss.backward()\n",
        "        optimizer.step()\n",
        "        losses.append(loss.item())\n",
        "        if batch_idx % log_interval == 0: \n",
        "            print('Train Epoch: {} [{}/{} ({:.0f}%)]\\tLoss: {:.6f}'.format(\n",
        "                epoch, batch_idx * len(data), len(train_loader.dataset),\n",
        "                100. * batch_idx / len(train_loader), loss.item()))\n",
        "    return losses"
      ],
      "execution_count": 0,
      "outputs": []
    },
    {
      "metadata": {
        "id": "jpGDB7EGq74Y",
        "colab_type": "code",
        "colab": {}
      },
      "cell_type": "code",
      "source": [
        "def validate(model, device, loader):\n",
        "    \n",
        "    model.eval()  # let's put the model in evaluation mode\n",
        "\n",
        "    validation_loss = 0\n",
        "    correct = 0\n",
        "    \n",
        "    with torch.no_grad():  # we don't need gradient computation at all\n",
        "        for data, target in loader:\n",
        "            data, target = data.to(device), target.to(device)\n",
        "            output = model(data)\n",
        "            validation_loss += F.nll_loss(output, target, reduction='sum').item() # sum up batch loss\n",
        "            pred = output.argmax(dim=1, keepdim=True) # get the index of the max log-probability\n",
        "            correct += pred.eq(target.view_as(pred)).sum().item()\n",
        "\n",
        "    validation_loss /= len(loader.dataset)\n",
        "\n",
        "    print('\\nValidation set: Average loss: {:.4f}, Accuracy: {}/{} ({:.0f}%)\\n'.format(\n",
        "        validation_loss, correct, len(loader.dataset),\n",
        "        100. * correct / len(loader.dataset)))\n",
        "    \n",
        "    return validation_loss"
      ],
      "execution_count": 0,
      "outputs": []
    },
    {
      "metadata": {
        "id": "IYo6HlYjspeO",
        "colab_type": "code",
        "colab": {}
      },
      "cell_type": "code",
      "source": [
        "train_batch_size = 128\n",
        "\n",
        "mnist_mean = 0.1307\n",
        "mnist_stddev = 0.3081\n",
        "train_loader = torch.utils.data.DataLoader(\n",
        "    datasets.MNIST('./data',\n",
        "                   train=True,\n",
        "                   download=True,\n",
        "                   transform=transforms.Compose([\n",
        "                       transforms.ToTensor(),\n",
        "                       transforms.Normalize((mnist_mean,), (mnist_stddev,))\n",
        "                   ])),\n",
        "    batch_size=train_batch_size,\n",
        "    shuffle=True)\n",
        "\n",
        "valid_batch_size = 1000\n",
        "valid_loader = torch.utils.data.DataLoader(\n",
        "    datasets.MNIST('./data',\n",
        "                   train=False,\n",
        "                   transform=transforms.Compose([\n",
        "                       transforms.ToTensor(),\n",
        "                       transforms.Normalize((mnist_mean,), (mnist_stddev,))\n",
        "                   ])),\n",
        "    batch_size=valid_batch_size,\n",
        "    shuffle=True)"
      ],
      "execution_count": 0,
      "outputs": []
    },
    {
      "metadata": {
        "id": "Qa7OAnfw1WAC",
        "colab_type": "text"
      },
      "cell_type": "markdown",
      "source": [
        "Net 0 is set as the default net with 2 convolution layers. The first one, 5x5 kernel size, stride = 1, no padding and 1 channel in to 20 out.\n",
        "The second one has a 5x5 kernel size, stride = 1, no padding and 20 channel in to 50 out."
      ]
    },
    {
      "metadata": {
        "id": "mdTnygUls19j",
        "colab_type": "code",
        "colab": {}
      },
      "cell_type": "code",
      "source": [
        "net0 = [nn.Conv2d(1,20,5,1),\n",
        "        nn.ReLU(),\n",
        "        nn.MaxPool2d(2,2),\n",
        "        nn.Conv2d(20,50,5,1),\n",
        "        nn.ReLU(),\n",
        "        nn.MaxPool2d(2,2),\n",
        "        Flatten(),\n",
        "        nn.Linear(4*4*50,500),\n",
        "        nn.ReLU(),\n",
        "        nn.Linear(500,10)]\n",
        "nets.append(net0)"
      ],
      "execution_count": 0,
      "outputs": []
    },
    {
      "metadata": {
        "id": "4Ml5ov0O2eB1",
        "colab_type": "text"
      },
      "cell_type": "markdown",
      "source": [
        "Net1 has 2 conv2d layers with 3x3 kernels size with the same stride as Net 0 (stride = 1) and adding padding = 1. Same number of channels in/out than Net0."
      ]
    },
    {
      "metadata": {
        "id": "zlR-EVOV2ddm",
        "colab_type": "code",
        "colab": {}
      },
      "cell_type": "code",
      "source": [
        "net1 = [nn.Conv2d(1,20,3,1,1),\n",
        "        nn.ReLU(),\n",
        "        nn.MaxPool2d(2,2),\n",
        "        nn.Conv2d(20,50,3,1,1),\n",
        "        nn.ReLU(),\n",
        "        nn.MaxPool2d(2,2),\n",
        "        Flatten(),\n",
        "        nn.Linear(7*7*50,500),\n",
        "        nn.ReLU(),\n",
        "        nn.Linear(500,10)]\n",
        "nets.append(net1)"
      ],
      "execution_count": 0,
      "outputs": []
    },
    {
      "metadata": {
        "id": "E47noqq53A0t",
        "colab_type": "text"
      },
      "cell_type": "markdown",
      "source": [
        "Net2 has 2 conv2d layers. First kernel size of 5x5 and another one 3x3 kernel with the same stride as Net1 (stride = 1) and no padding = 0. Same number of channels in/out than Net0."
      ]
    },
    {
      "metadata": {
        "id": "vUaaOgnA3ApM",
        "colab_type": "code",
        "colab": {}
      },
      "cell_type": "code",
      "source": [
        "net2 = [nn.Conv2d(1,20,5,1),\n",
        "        nn.ReLU(),\n",
        "        nn.MaxPool2d(2,2),\n",
        "        nn.Conv2d(20,50,3,1),\n",
        "        nn.ReLU(),\n",
        "        nn.MaxPool2d(2,2),\n",
        "        Flatten(),\n",
        "        nn.Linear(5*5*50,500),\n",
        "        nn.ReLU(),\n",
        "        nn.Linear(500,10)]\n",
        "nets.append(net2)"
      ],
      "execution_count": 0,
      "outputs": []
    },
    {
      "metadata": {
        "id": "7M2bXpOF54p1",
        "colab_type": "text"
      },
      "cell_type": "markdown",
      "source": [
        "Net3 has 2 conv2d layers. The first kernel size of 3x3 with padding = 1 and another one 5x5 kernel with both stride = 1. Same number of channels in/out than Net0."
      ]
    },
    {
      "metadata": {
        "id": "_B18igMQ54g8",
        "colab_type": "code",
        "colab": {}
      },
      "cell_type": "code",
      "source": [
        "net3 = [nn.Conv2d(1,20,3,1,1),\n",
        "        nn.ReLU(),\n",
        "        nn.MaxPool2d(2,2),\n",
        "        nn.Conv2d(20,50,5,1),\n",
        "        nn.ReLU(),\n",
        "        nn.MaxPool2d(2,2),\n",
        "        Flatten(),\n",
        "        nn.Linear(5*5*50,500),\n",
        "        nn.ReLU(),\n",
        "        nn.Linear(500,10)]\n",
        "nets.append(net3)"
      ],
      "execution_count": 0,
      "outputs": []
    },
    {
      "metadata": {
        "id": "q-sBuBh55JU5",
        "colab_type": "text"
      },
      "cell_type": "markdown",
      "source": [
        "Net4 has an only conv2d layer with a kernel size of 7x7 with stride = 3, no padding and 1 channel in, 20 out."
      ]
    },
    {
      "metadata": {
        "id": "_0LSxYUD4PC0",
        "colab_type": "code",
        "colab": {}
      },
      "cell_type": "code",
      "source": [
        "net4 = [nn.Conv2d(1,20,7,3),\n",
        "        nn.ReLU(),\n",
        "        nn.MaxPool2d(2,2),\n",
        "        Flatten(),\n",
        "        nn.Linear(4*4*20, 200),\n",
        "        nn.ReLU(),\n",
        "        nn.Linear(200,10)]\n",
        "nets.append(net4)"
      ],
      "execution_count": 0,
      "outputs": []
    },
    {
      "metadata": {
        "id": "dxpEgEeSbGoe",
        "colab_type": "text"
      },
      "cell_type": "markdown",
      "source": [
        "Net 5 has only one channel, a kernel size of 13x13 and a stride = 5. No padding. The reason of this parameters is trying to underfit the dataset."
      ]
    },
    {
      "metadata": {
        "id": "PO2SUdARbFZq",
        "colab_type": "code",
        "colab": {}
      },
      "cell_type": "code",
      "source": [
        " net5 = [nn.Conv2d(1,1,13,5),\n",
        "        nn.ReLU(),\n",
        "        nn.MaxPool2d(2,2),\n",
        "        Flatten(),\n",
        "        nn.Linear(2*2*1,500),\n",
        "        nn.ReLU(),\n",
        "        nn.Linear(500,10)]\n",
        "nets.append(net5)"
      ],
      "execution_count": 0,
      "outputs": []
    },
    {
      "metadata": {
        "id": "Nddy2OGIVI-j",
        "colab_type": "text"
      },
      "cell_type": "markdown",
      "source": [
        "Net 6 has a 5x5 kernel size with stride = 1 and 20 channels out. No padding and a Maxpool."
      ]
    },
    {
      "metadata": {
        "id": "b30FpBNlVP3V",
        "colab_type": "code",
        "colab": {}
      },
      "cell_type": "code",
      "source": [
        "net6 = [nn.Conv2d(1,20,5,1),\n",
        "        nn.ReLU(),\n",
        "        nn.MaxPool2d(2,2),\n",
        "        Flatten(),\n",
        "        nn.Linear(12*12*20,500),\n",
        "        nn.ReLU(),\n",
        "        nn.Linear(500,10)]\n",
        "nets.append(net6)"
      ],
      "execution_count": 0,
      "outputs": []
    },
    {
      "metadata": {
        "id": "6cE1FVu6V2rf",
        "colab_type": "text"
      },
      "cell_type": "markdown",
      "source": [
        "Net 7 has a 5x5 kernel size with a stride = 3 in order to compare with the net above. No padding and a Maxpool."
      ]
    },
    {
      "metadata": {
        "id": "rWDLuLi6VbuB",
        "colab_type": "code",
        "colab": {}
      },
      "cell_type": "code",
      "source": [
        "net7 = [nn.Conv2d(1,20,5,3),\n",
        "        nn.ReLU(),\n",
        "        nn.MaxPool2d(2,2),\n",
        "        Flatten(),\n",
        "        nn.Linear(4*4*20,500),\n",
        "        nn.ReLU(),\n",
        "        nn.Linear(500,10)]\n",
        "nets.append(net7)"
      ],
      "execution_count": 0,
      "outputs": []
    },
    {
      "metadata": {
        "id": "5oKb9wFQV0zx",
        "colab_type": "text"
      },
      "cell_type": "markdown",
      "source": [
        "Net 8 has a 13x13 kernel size, stride = 3 and only 2 channel out to obtain an underfitting. No padding and one Maxpool."
      ]
    },
    {
      "metadata": {
        "id": "gw2SwoX-Vwzw",
        "colab_type": "code",
        "colab": {}
      },
      "cell_type": "code",
      "source": [
        "net8 = [nn.Conv2d(1,2,13,3),\n",
        "        nn.ReLU(),\n",
        "        nn.MaxPool2d(2,2),\n",
        "        Flatten(),\n",
        "        nn.Linear(3*3*2,500),\n",
        "        nn.ReLU(),\n",
        "        nn.Linear(500,10)]\n",
        "nets.append(net7)"
      ],
      "execution_count": 0,
      "outputs": []
    },
    {
      "metadata": {
        "id": "R_IdJFRU8VfG",
        "colab_type": "text"
      },
      "cell_type": "markdown",
      "source": [
        "Net 9 has 7 conv2d layers. All set with a 3x3 kernel size, stride = 1 and no padding. There is a MaxPool after the second layer in order to reduce computational cost."
      ]
    },
    {
      "metadata": {
        "id": "DsZ-LB8-8VIz",
        "colab_type": "code",
        "colab": {}
      },
      "cell_type": "code",
      "source": [
        "net9 = [nn.Conv2d(1,20,3,1),\n",
        "        nn.ReLU(),\n",
        "        nn.Conv2d(20,50,3,1),\n",
        "        nn.ReLU(),\n",
        "        nn.MaxPool2d(2,2),\n",
        "        nn.Conv2d(50,50,3,1),\n",
        "        nn.ReLU(),\n",
        "        nn.Conv2d(50,50,3,1),\n",
        "        nn.ReLU(),\n",
        "        nn.Conv2d(50,50,3,1),\n",
        "        nn.ReLU(),\n",
        "        nn.Conv2d(50,50,3,1),\n",
        "        nn.ReLU(),\n",
        "        nn.Conv2d(50,80,3,1),\n",
        "        Flatten(),\n",
        "        nn.Linear(2*2*80,500),\n",
        "        nn.ReLU(),\n",
        "        nn.Linear(500,10)]\n",
        "nets.append(net9)"
      ],
      "execution_count": 0,
      "outputs": []
    },
    {
      "metadata": {
        "id": "d0xg11Kdu2Jm",
        "colab_type": "text"
      },
      "cell_type": "markdown",
      "source": [
        "Train the different nets and we store all the results in order to plot them later."
      ]
    },
    {
      "metadata": {
        "id": "KIaJpPoNuTLS",
        "colab_type": "code",
        "colab": {}
      },
      "cell_type": "code",
      "source": [
        "device = torch.device(\"cuda:0\" if torch.cuda.is_available() else \"cpu\")\n",
        "results = {}\n",
        "for i,m in enumerate(nets):\n",
        "  print( \"------ Net \" + str(i) + \" ------\" )\n",
        "  start_time = time.time()\n",
        "  model = None\n",
        "  optimizer = None\n",
        "  model = Net(m).to(device)\n",
        "  optimizer = optim.SGD(model.parameters(), lr=0.01, momentum=0.5)\n",
        "\n",
        "  train_losses = []\n",
        "  valid_losses = []\n",
        "  valid_x = []\n",
        "  num_epochs = 10\n",
        "  for epoch in range(1, num_epochs + 1):\n",
        "      start_time_epoch = time.time()\n",
        "      epoch_losses = train(80, model, device, train_loader, optimizer, epoch)\n",
        "      train_losses.extend(epoch_losses)\n",
        "      print(\"Training time: \" + str(time.time()-start_time_epoch))\n",
        "      valid_loss = validate(model, device, valid_loader)\n",
        "      valid_losses.append([valid_loss])\n",
        "      valid_x.append(len(train_losses) - 1)\n",
        "  \n",
        "  total_time = time.time()-start_time\n",
        "  results['net'+str(i)] = Result(model, train_losses, valid_losses, total_time)\n",
        "  \n",
        "  print(\"Total time: \" + str(total_time))\n",
        "  #plt.gcf().clear()\n",
        "  #plt.plot(train_losses, 'b-')\n",
        "  #plt.plot(valid_x, valid_losses, 'r-')\n",
        "  #plt.show()"
      ],
      "execution_count": 0,
      "outputs": []
    },
    {
      "metadata": {
        "id": "qWJbAciIWhqM",
        "colab_type": "code",
        "colab": {}
      },
      "cell_type": "code",
      "source": [
        "plt.gcf().clear()\n",
        "times = {}\n",
        "for key in results:\n",
        "  plt.plot( results[key].val_loss, label=key )\n",
        "  plt.legend()\n",
        "  times[key]=results[key].time\n",
        "\n",
        "plt.show()\n",
        "print(\"\\n Execution times: \\n\")\n",
        "print(times)\n",
        "\n",
        "plt.bar(range(len(times)), list(times.values()))\n",
        "plt.xticks(range(len(times)), list(times.keys()))\n",
        "plt.show()"
      ],
      "execution_count": 0,
      "outputs": []
    },
    {
      "metadata": {
        "id": "DzemDzsfr7sB",
        "colab_type": "text"
      },
      "cell_type": "markdown",
      "source": [
        "# Conclusions\n",
        "\n",
        "Firstly, the dependance on the dataset, more exactly, on the images size, and the number of possible labels was a limitation. The dataset used, MNIST, has 28x28 images. Each convolutional layer of the network reduces the size of its input, so we were not able to add as many convolutional layers as we intended to.\n",
        "\n",
        "The images provided by the dataset are very simple. They only have dark colors and ten possible outputs, so the usage of really complex network architectures did not make sense in this experiment.\n",
        "\n",
        "However, the results of training the different models lead us to conclude the following:\n",
        "\n",
        "\n",
        "1.   When the **number of layers** is big, the training and validation time is exponentially increased, nevertheless, the accuracy does not increase as much as what we would consider worth.\n",
        "2.   The **kernel size** is also directly related to the time, but not the accuracy. We observed that even though time highered, it costed less than adding lots of layers. \n",
        "3. The tests performed on the **stride** were not conclusive due to the simplicity of the dataset.\n",
        "\n",
        "\n",
        "\n",
        "\n",
        "\n"
      ]
    }
  ]
}