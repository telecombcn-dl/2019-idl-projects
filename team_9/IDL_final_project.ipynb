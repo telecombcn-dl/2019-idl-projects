{
  "nbformat": 4,
  "nbformat_minor": 0,
  "metadata": {
    "colab": {
      "name": "IDL_final_project.ipynb",
      "version": "0.3.2",
      "provenance": [],
      "collapsed_sections": [],
      "include_colab_link": true
    },
    "kernelspec": {
      "name": "python3",
      "display_name": "Python 3"
    },
    "accelerator": "GPU"
  },
  "cells": [
    {
      "cell_type": "markdown",
      "metadata": {
        "id": "view-in-github",
        "colab_type": "text"
      },
      "source": [
        "<a href=\"https://colab.research.google.com/github/telecombcn-dl/2019-idl-projects/blob/master/team_9/IDL_final_project.ipynb\" target=\"_parent\"><img src=\"https://colab.research.google.com/assets/colab-badge.svg\" alt=\"Open In Colab\"/></a>"
      ]
    },
    {
      "metadata": {
        "id": "okSlhDUvvkMp",
        "colab_type": "text"
      },
      "cell_type": "markdown",
      "source": [
        "**Analysis of the performance of different Loss Functions for the MNIST Classification Problem**\n",
        "\n",
        "*By Roger Benjumea, Ramon Garcia, Miquel Puig, and Biel Tura*\n",
        "\n",
        "Loss Functions available in Pytorch: https://pytorch.org/docs/stable/nn.html#loss-functions"
      ]
    },
    {
      "metadata": {
        "id": "EnI-r2Tz3sX8",
        "colab_type": "text"
      },
      "cell_type": "markdown",
      "source": [
        "We'll use PyTorch to define and train a model based on Convolutional Neural Networks for solving the problem. Let's import the PyTorch library along with all its dependencies. Matplotlib will be used for plotting purposes."
      ]
    },
    {
      "metadata": {
        "id": "lqjScUHKp8BD",
        "colab_type": "code",
        "outputId": "a4778a9f-9fb5-41e2-921a-3590934852c6",
        "colab": {
          "base_uri": "https://localhost:8080/",
          "height": 272
        }
      },
      "cell_type": "code",
      "source": [
        "#Install libraries if needed\n",
        "!pip install pillow==5.4.1\n",
        "!pip install matplotlib\n",
        "!pip install torch\n",
        "!pip install torchvision"
      ],
      "execution_count": 0,
      "outputs": [
        {
          "output_type": "stream",
          "text": [
            "Requirement already satisfied: pillow==5.4.1 in /usr/local/lib/python3.6/dist-packages (5.4.1)\n",
            "Requirement already satisfied: matplotlib in /usr/local/lib/python3.6/dist-packages (3.0.2)\n",
            "Requirement already satisfied: cycler>=0.10 in /usr/local/lib/python3.6/dist-packages (from matplotlib) (0.10.0)\n",
            "Requirement already satisfied: kiwisolver>=1.0.1 in /usr/local/lib/python3.6/dist-packages (from matplotlib) (1.0.1)\n",
            "Requirement already satisfied: python-dateutil>=2.1 in /usr/local/lib/python3.6/dist-packages (from matplotlib) (2.5.3)\n",
            "Requirement already satisfied: pyparsing!=2.0.4,!=2.1.2,!=2.1.6,>=2.0.1 in /usr/local/lib/python3.6/dist-packages (from matplotlib) (2.3.1)\n",
            "Requirement already satisfied: numpy>=1.10.0 in /usr/local/lib/python3.6/dist-packages (from matplotlib) (1.14.6)\n",
            "Requirement already satisfied: six in /usr/local/lib/python3.6/dist-packages (from cycler>=0.10->matplotlib) (1.11.0)\n",
            "Requirement already satisfied: setuptools in /usr/local/lib/python3.6/dist-packages (from kiwisolver>=1.0.1->matplotlib) (40.6.3)\n",
            "Requirement already satisfied: torch in /usr/local/lib/python3.6/dist-packages (1.0.0)\n",
            "Requirement already satisfied: torchvision in /usr/local/lib/python3.6/dist-packages (0.2.1)\n",
            "Requirement already satisfied: numpy in /usr/local/lib/python3.6/dist-packages (from torchvision) (1.14.6)\n",
            "Requirement already satisfied: pillow>=4.1.1 in /usr/local/lib/python3.6/dist-packages (from torchvision) (5.4.1)\n",
            "Requirement already satisfied: torch in /usr/local/lib/python3.6/dist-packages (from torchvision) (1.0.0)\n",
            "Requirement already satisfied: six in /usr/local/lib/python3.6/dist-packages (from torchvision) (1.11.0)\n"
          ],
          "name": "stdout"
        }
      ]
    },
    {
      "metadata": {
        "id": "SCO-7iIdqGVM",
        "colab_type": "code",
        "colab": {}
      },
      "cell_type": "code",
      "source": [
        "#Import libraries\n",
        "import matplotlib.pyplot as plt\n",
        "import torch\n",
        "import torch.nn as nn\n",
        "import torch.nn.functional as F\n",
        "import torch.optim as optim\n",
        "from torchvision import datasets, transforms"
      ],
      "execution_count": 0,
      "outputs": []
    },
    {
      "metadata": {
        "id": "3jBnY0884M-H",
        "colab_type": "text"
      },
      "cell_type": "markdown",
      "source": [
        "Let's now define the Deep Neural Network that we want to train. We must first, inside the *init constructor*, define the layers that our network will have. For solving the MNIST Classification problem, we'll use two **2D convolutional layers** followed by two **feed-forward layers**.\n",
        "\n",
        "The first layer is a 2D convolutional layer will handle the input (a B/W image of a digit from the MNIST database, thus an input of 1 channel) and produce an output of 20 channels. The second convolutional layer will handle these 20 channels and output 50 channels. The third layer, a feed-forward one, will handle an input of 4\\*4*50 channels and output 500 channels. The fourth layer will deal with it and produce a final output of 10 layers, which matches the possible digits that can predicted (from 0 to 9).\n",
        "\n",
        "The *forward* method of the class defines the **forward pass**, i.e the actions to be performed at the output of each layer and before the next one. After each convolutional layer, a ReLU (Rectified Linear Unit) activation function is applied, and then a maximum pooling of size 2x2 is performed. After the pooling of the second convolutional layer, the shape of the output tensor is changed, from two dimensions to a single dimension so as that it can be fed to the feed-forward layers. After the first feed-forward layer, a ReLU activation function is applied. Finally, the last layer, after the second feed-forward layer, is a Softmax layer.\n",
        "\n",
        "\n",
        "\n"
      ]
    },
    {
      "metadata": {
        "id": "TC6HneCXsJb3",
        "colab_type": "code",
        "colab": {}
      },
      "cell_type": "code",
      "source": [
        "class Net(nn.Module):\n",
        "    def __init__(self):\n",
        "      #Definition of the layers of the NN\n",
        "        super(Net, self).__init__()\n",
        "        self.conv1 = nn.Conv2d(1, 20, 5, 1)\n",
        "        self.conv2 = nn.Conv2d(20, 50, 5, 1)\n",
        "        self.fc1 = nn.Linear(4*4*50, 500)\n",
        "        self.fc2 = nn.Linear(500, 10)\n",
        "\n",
        "    def forward(self, x):\n",
        "      #Definition of activation functions, poolings, intermediate layers\n",
        "        x = F.relu(self.conv1(x))\n",
        "        x = F.max_pool2d(x, 2, 2)\n",
        "        x = F.relu(self.conv2(x))\n",
        "        x = F.max_pool2d(x, 2, 2)\n",
        "        x = x.view(-1, 4*4*50)\n",
        "        x = F.relu(self.fc1(x))\n",
        "        x = self.fc2(x)\n",
        "        return F.log_softmax(x, dim=1)"
      ],
      "execution_count": 0,
      "outputs": []
    },
    {
      "metadata": {
        "id": "r0xNM8poqaY1",
        "colab_type": "text"
      },
      "cell_type": "markdown",
      "source": [
        "We decided to initialize values on each iteration using *xavier_uniform_* function."
      ]
    },
    {
      "metadata": {
        "id": "wWghbMpAkON4",
        "colab_type": "code",
        "colab": {}
      },
      "cell_type": "code",
      "source": [
        "def init_weights(m):\n",
        "    if type(m) == nn.Linear:\n",
        "        nn.init.xavier_uniform_(m.weight)\n",
        "        m.bias.data.fill_(0.01)"
      ],
      "execution_count": 0,
      "outputs": []
    },
    {
      "metadata": {
        "id": "vEWVpIv_5b4y",
        "colab_type": "text"
      },
      "cell_type": "markdown",
      "source": [
        "Now, we must define how the Deep Neural Network is trained, which involves defining the **backward pass**.\n",
        "\n",
        "For the training, different Loss Functions will be used and their results compared. To compare the results, a *losses* vector is defined, so that the loss evolution over training steps will be later plotted for each Loss Function. The LF to be checked are: *l1_loss*, *mse_loss*, *nll_loss*, *cross_entropy*, and *multi_margin_loss* [1].\n",
        "\n",
        "Both the L1 and the MSE losses are mainly used for regression problems, so the initial expectations are that their performance when used for the MNIST Classification problem will be poor. The L1 loss function is based in computing the least absolute deviation between the output and the ground truth (expected output). The MSE loss function (also called L2 loss), as its name suggests, is based on computing the mean square error between the output and the ground truth.\n",
        "\n",
        "These functions are mainly used for regression, as explained, and thus are expecting two vectors of the same size, while our NN model is outputting a vector of size 10 with the ordered \"probabilities\" of the image fed being a digit from 0 to 9, and the ground-truth is just the expected digit (a single number). \n",
        "\n",
        "Thus, **an adaptation must be made**, with the aim of converting the ground truth to a vector of 10 elements, where all elements are 0 except the one with the index corresponding to the ground truth digit, which will be 1. This choice of a vector of zeroes and a one is to some extent arbitrary, and changing this criterion may have an impact on the performance of the loss function.\n",
        "\n",
        "Functions designed for classification purposes (Negative-Log-Likelihood Loss, Cross-Entropy Loss, and Multi-Margin Loss) are already expecting as an input a vector of \"probabilities\" of 10 elements and the ground truth as a single digit, so no modifications need to be made.\n",
        "\n",
        "The Cross-Entropy loss functions combines a Negative-Log-Likelihood loss function with a Log-Softmax loss function, and it is thus expected to perform very similarly to the Negative-Log-Likelihood loss functions, but a bit better because of complementing it and boosting high values due to the Softmax.\n",
        "\n",
        "When researching literature, it has been seen that the problem of determining which loss function is better for a problem, is in general an **empirical problem** [2] (a \"try-and-see\" problem), with the **Hinge loss function** being the one that **generally performs better** in classification problems [2]. Our study also looks into the Hinge loss function by using the Multi-Margin loss function, which is a Pytorch adaptation of the Hinge loss function for a multi-class classification problem such as the MNIST one."
      ]
    },
    {
      "metadata": {
        "id": "PJCLWFc7h2uQ",
        "colab_type": "code",
        "colab": {}
      },
      "cell_type": "code",
      "source": [
        "def train(log_interval, model, device, train_loader, optimizer, epoch, loss_type):\n",
        "    losses = [] # Vector to save the losses for each train iteration\n",
        "    model.train() # let's put the model in training mode\n",
        "    \n",
        "    for batch_idx, (data, target) in enumerate(train_loader):\n",
        "        data, target = data.to(device), target.to(device)\n",
        "        optimizer.zero_grad()\n",
        "        output = model(data)\n",
        "        \n",
        "        #We'll evaluate different loss functions\n",
        "        if (loss_type is \"l1_loss\" or loss_type is \"mse_loss\"):\n",
        "          #Let's transform the architecture of target appropiately\n",
        "          #so that it can be used with functions l1_loss and mse_loss,\n",
        "          #which are normally used for regression problems.\n",
        "          #target is now a vector of mini-batch length with the ground truth\n",
        "          #for each mini-batch element. It will be transformed to a tensor,\n",
        "          #in which each element will be a vector with 0 for all the indexes not\n",
        "          #corresponding to the ground truth and 1 for the element corresponding to it.\n",
        "          \n",
        "          newtarget = []\n",
        "          for index, element in enumerate(target):\n",
        "            vector = []\n",
        "            for i in range(10):\n",
        "              if (i == element):\n",
        "                vector.append(1)\n",
        "              else:\n",
        "                vector.append(0)\n",
        "            newtarget.append(vector)\n",
        "          \n",
        "          if torch.cuda.is_available():\n",
        "            newtarget = torch.cuda.FloatTensor(newtarget)\n",
        "          else:\n",
        "            newtarget = torch.FloatTensor(newtarget)\n",
        "        \n",
        "        if loss_type is \"l1_loss\":          \n",
        "          loss = F.l1_loss(output, newtarget)\n",
        "        elif loss_type is \"mse_loss\":\n",
        "          loss = F.mse_loss(output, newtarget)\n",
        "        elif loss_type is \"nll_loss\":\n",
        "          loss = F.nll_loss(output, target)       \n",
        "        elif loss_type is \"cross_entropy\":\n",
        "          loss = F.cross_entropy(output, target)\n",
        "        elif loss_type is \"multi_margin_loss\":\n",
        "          loss = F.multi_margin_loss(output, target)\n",
        "        #elif loss_type is \"cosine_similarity\":\n",
        "          #loss = F.cosine_similarity(...)\n",
        "        else:\n",
        "          return\n",
        "\n",
        "        loss.backward()\n",
        "        optimizer.step()\n",
        "        losses.append(loss.item())\n",
        "        \n",
        "        #Every once in a while, show the progress of training and the loss \n",
        "        if batch_idx % log_interval == 0:\n",
        "            print('Train Epoch: {} [{}/{} ({:.0f}%)]\\tLoss: {:.6f}'.format(\n",
        "                epoch, batch_idx * len(data), len(train_loader.dataset),\n",
        "                100. * batch_idx / len(train_loader), loss.item()))\n",
        "    return losses"
      ],
      "execution_count": 0,
      "outputs": []
    },
    {
      "metadata": {
        "id": "UE5PItOwCQoH",
        "colab_type": "text"
      },
      "cell_type": "markdown",
      "source": [
        "Once the model is trained, in order to evaluate its performance, we must devote part of the batch to validation. This part of the batch has not been used for training and the loss must be computed for it, to ensure that no **overfitting** is happening with the training batch, as we could end up having a very low loss and high accuracy for the train examples just because the model had \"memorised\" in some way the values, without being able to generalise when exposed to different data. The validation batch allows us to detect these overfitting scenarios."
      ]
    },
    {
      "metadata": {
        "id": "c0UGBACRpgjj",
        "colab_type": "code",
        "colab": {}
      },
      "cell_type": "code",
      "source": [
        "def validate(model, device, loader, loss_type):\n",
        "    \n",
        "    model.eval()  # let's put the model in evaluation mode\n",
        "\n",
        "    validation_loss = 0\n",
        "    correct = 0\n",
        "    \n",
        "    with torch.no_grad():  # we don't need gradient computation at all\n",
        "        for data, target in loader:\n",
        "            data, target = data.to(device), target.to(device)\n",
        "            output = model(data)\n",
        "            \n",
        "            if (loss_type is \"l1_loss\" or loss_type is \"mse_loss\"):\n",
        "              #Let's transform the architecture of target appropiately\n",
        "              #so that it can be used with functions l1_loss and mse_loss,\n",
        "              #which are normally used for regression problems.\n",
        "              #target is now a vector of mini-batch length with the ground truth\n",
        "              #for each mini-batch element. It will be transformed to a tensor,\n",
        "              #in which each element will be a vector with 0 for all the indexes not\n",
        "              #corresponding to the ground truth and 1 for the element corresponding to it.\n",
        "\n",
        "              newtarget = []\n",
        "              for index, element in enumerate(target):\n",
        "                vector = []\n",
        "                for i in range(10):\n",
        "                  if (i == element):\n",
        "                    vector.append(1)\n",
        "                  else:\n",
        "                    vector.append(0)\n",
        "                newtarget.append(vector)\n",
        "\n",
        "              if torch.cuda.is_available():\n",
        "                newtarget = torch.cuda.FloatTensor(newtarget)\n",
        "              else:\n",
        "                newtarget = torch.FloatTensor(newtarget)\n",
        "            \n",
        "            if loss_type is \"l1_loss\":\n",
        "              validation_loss += F.l1_loss(output, newtarget, reduction='sum').item()\n",
        "            elif loss_type is \"mse_loss\":\n",
        "              validation_loss += F.mse_loss(output, newtarget, reduction='sum').item()\n",
        "            elif loss_type is \"nll_loss\":\n",
        "              validation_loss += F.nll_loss(output, target, reduction='sum').item()\n",
        "            elif loss_type is \"cross_entropy\":\n",
        "              validation_loss += F.cross_entropy(output, target, reduction='sum').item()\n",
        "            elif loss_type is \"multi_margin_loss\":\n",
        "              validation_loss += F.multi_margin_loss(output, target, reduction='sum').item()\n",
        "            #elif loss_type is \"cosine_similarity\":\n",
        "              #validation_loss += F.cosine_similarity(..., reduction='sum').item()\n",
        "            else:\n",
        "              return\n",
        "            \n",
        "            pred = output.argmax(dim=1, keepdim=True) # get the index of the max log-probability\n",
        "            correct += pred.eq(target.view_as(pred)).sum().item()\n",
        "\n",
        "    validation_loss /= len(loader.dataset)\n",
        "\n",
        "    print('\\nValidation set: Average loss: {:.4f}, Accuracy: {}/{} ({:.0f}%)\\n'.format(\n",
        "        validation_loss, correct, len(loader.dataset),\n",
        "        100. * correct / len(loader.dataset)))\n",
        "    \n",
        "    return validation_loss"
      ],
      "execution_count": 0,
      "outputs": []
    },
    {
      "metadata": {
        "id": "3ZiV4PcyIr6Y",
        "colab_type": "text"
      },
      "cell_type": "markdown",
      "source": [
        "Once we have defined our DL model, the training and the validation procedures, we must import the data from the MNIST dataset to later train the model with different Loss Functions and evaluate its performance. For the training, a bacth of 128 data samples is to be used, while 1000 data samples are to be used for the validation."
      ]
    },
    {
      "metadata": {
        "id": "zkW_8DqRluVA",
        "colab_type": "code",
        "colab": {}
      },
      "cell_type": "code",
      "source": [
        "train_batch_size = 128\n",
        "\n",
        "mnist_mean = 0.1307\n",
        "mnist_stddev = 0.3081\n",
        "train_loader = torch.utils.data.DataLoader(\n",
        "    datasets.MNIST('./data',\n",
        "                   train=True,\n",
        "                   download=True,\n",
        "                   transform=transforms.Compose([\n",
        "                       transforms.ToTensor(),\n",
        "                       transforms.Normalize((mnist_mean,), (mnist_stddev,))\n",
        "                   ])),\n",
        "    batch_size=train_batch_size,\n",
        "    shuffle=True)\n",
        "\n",
        "valid_batch_size = 1000\n",
        "valid_loader = torch.utils.data.DataLoader(\n",
        "    datasets.MNIST('./data',\n",
        "                   train=False,\n",
        "                   transform=transforms.Compose([\n",
        "                       transforms.ToTensor(),\n",
        "                       transforms.Normalize((mnist_mean,), (mnist_stddev,))\n",
        "                   ])),\n",
        "    batch_size=valid_batch_size,\n",
        "    shuffle=True)"
      ],
      "execution_count": 0,
      "outputs": []
    },
    {
      "metadata": {
        "id": "YGMvPo_VLEA6",
        "colab_type": "text"
      },
      "cell_type": "markdown",
      "source": [
        "This is where all computations happen. First, the computation device is defined, and set to a GPU if possible, the model is instantiated to the one that was defined above, and a Stochastic Gradient Descent optimizer (with a learning rate of 0.01 and a momentum of 0.5) is chosen.\n",
        "\n",
        "For each Loss Function to be studied, the training losses and the validation losses are computed (the way it was defined above in the training and validation methods), for 10 epochs. The result for each Loss Function is then plotted.\n",
        "\n"
      ]
    },
    {
      "metadata": {
        "id": "E_QYdG5OnDfB",
        "colab_type": "code",
        "outputId": "109cd059-2103-401f-c274-a44a6ad6daf7",
        "colab": {
          "base_uri": "https://localhost:8080/",
          "height": 7752
        }
      },
      "cell_type": "code",
      "source": [
        "device = torch.device(\"cuda:0\" if torch.cuda.is_available() else \"cpu\")\n",
        "model = Net().to(device)\n",
        "optimizer = optim.SGD(model.parameters(), lr=0.01, momentum=0.5)\n",
        "\n",
        "eval_funcs = [\"l1_loss\",\"mse_loss\",\"nll_loss\",\"cross_entropy\",\"multi_margin_loss\"]\n",
        "results = {}\n",
        "for eval_func in eval_funcs:\n",
        "  print(\"############### EVALUATING LOSS FUNCTION \"+eval_func+\" ###############\")\n",
        "  train_losses = []\n",
        "  valid_losses = []\n",
        "  valid_x = []\n",
        "  num_epochs = 10\n",
        "  model.apply(init_weights)\n",
        "  for epoch in range(1, num_epochs + 1):\n",
        "      epoch_losses = train(80, model, device, train_loader, optimizer, epoch, eval_func)\n",
        "      train_losses.extend(epoch_losses) # Training losses (global)\n",
        "      valid_loss = validate(model, device, valid_loader, eval_func)\n",
        "      valid_losses.append([valid_loss]) # Validation losses (global)\n",
        "      valid_x.append(len(train_losses) - 1)\n",
        "  \n",
        "  #Save the results of (train and validation losses) of this particular Loss Function\n",
        "  results[eval_func] = {}\n",
        "  results[eval_func]['train'] = {}\n",
        "  results[eval_func]['train']['train_losses'] = train_losses\n",
        "  results[eval_func]['valid'] = {}\n",
        "  results[eval_func]['valid']['valid_losses'] = valid_losses\n",
        "  results[eval_func]['valid']['valid_x'] = valid_x\n"
      ],
      "execution_count": 0,
      "outputs": [
        {
          "output_type": "stream",
          "text": [
            "############### EVALUATING LOSS FUNCTION l1_loss ###############\n",
            "Train Epoch: 1 [0/60000 (0%)]\tLoss: 2.496981\n",
            "Train Epoch: 1 [10240/60000 (17%)]\tLoss: 2.409003\n",
            "Train Epoch: 1 [20480/60000 (34%)]\tLoss: 2.407439\n",
            "Train Epoch: 1 [30720/60000 (51%)]\tLoss: 2.405976\n",
            "Train Epoch: 1 [40960/60000 (68%)]\tLoss: 2.405512\n",
            "Train Epoch: 1 [51200/60000 (85%)]\tLoss: 2.404979\n",
            "\n",
            "Validation set: Average loss: 24.0479, Accuracy: 802/10000 (8%)\n",
            "\n",
            "Train Epoch: 2 [0/60000 (0%)]\tLoss: 2.404958\n",
            "Train Epoch: 2 [10240/60000 (17%)]\tLoss: 2.404686\n",
            "Train Epoch: 2 [20480/60000 (34%)]\tLoss: 2.404292\n",
            "Train Epoch: 2 [30720/60000 (51%)]\tLoss: 2.404316\n",
            "Train Epoch: 2 [40960/60000 (68%)]\tLoss: 2.404072\n",
            "Train Epoch: 2 [51200/60000 (85%)]\tLoss: 2.403846\n",
            "\n",
            "Validation set: Average loss: 24.0380, Accuracy: 798/10000 (8%)\n",
            "\n",
            "Train Epoch: 3 [0/60000 (0%)]\tLoss: 2.403825\n",
            "Train Epoch: 3 [10240/60000 (17%)]\tLoss: 2.403630\n",
            "Train Epoch: 3 [20480/60000 (34%)]\tLoss: 2.403588\n",
            "Train Epoch: 3 [30720/60000 (51%)]\tLoss: 2.403561\n",
            "Train Epoch: 3 [40960/60000 (68%)]\tLoss: 2.403467\n",
            "Train Epoch: 3 [51200/60000 (85%)]\tLoss: 2.403358\n",
            "\n",
            "Validation set: Average loss: 24.0339, Accuracy: 834/10000 (8%)\n",
            "\n",
            "Train Epoch: 4 [0/60000 (0%)]\tLoss: 2.403378\n",
            "Train Epoch: 4 [10240/60000 (17%)]\tLoss: 2.403312\n",
            "Train Epoch: 4 [20480/60000 (34%)]\tLoss: 2.403283\n",
            "Train Epoch: 4 [30720/60000 (51%)]\tLoss: 2.403226\n",
            "Train Epoch: 4 [40960/60000 (68%)]\tLoss: 2.403233\n",
            "Train Epoch: 4 [51200/60000 (85%)]\tLoss: 2.403181\n",
            "\n",
            "Validation set: Average loss: 24.0317, Accuracy: 863/10000 (9%)\n",
            "\n",
            "Train Epoch: 5 [0/60000 (0%)]\tLoss: 2.403170\n",
            "Train Epoch: 5 [10240/60000 (17%)]\tLoss: 2.403174\n",
            "Train Epoch: 5 [20480/60000 (34%)]\tLoss: 2.403120\n",
            "Train Epoch: 5 [30720/60000 (51%)]\tLoss: 2.403049\n",
            "Train Epoch: 5 [40960/60000 (68%)]\tLoss: 2.403077\n",
            "Train Epoch: 5 [51200/60000 (85%)]\tLoss: 2.403069\n",
            "\n",
            "Validation set: Average loss: 24.0302, Accuracy: 890/10000 (9%)\n",
            "\n",
            "Train Epoch: 6 [0/60000 (0%)]\tLoss: 2.403059\n",
            "Train Epoch: 6 [10240/60000 (17%)]\tLoss: 2.403021\n",
            "Train Epoch: 6 [20480/60000 (34%)]\tLoss: 2.402971\n",
            "Train Epoch: 6 [30720/60000 (51%)]\tLoss: 2.402943\n",
            "Train Epoch: 6 [40960/60000 (68%)]\tLoss: 2.402975\n",
            "Train Epoch: 6 [51200/60000 (85%)]\tLoss: 2.402902\n",
            "\n",
            "Validation set: Average loss: 24.0290, Accuracy: 922/10000 (9%)\n",
            "\n",
            "Train Epoch: 7 [0/60000 (0%)]\tLoss: 2.402907\n",
            "Train Epoch: 7 [10240/60000 (17%)]\tLoss: 2.402901\n",
            "Train Epoch: 7 [20480/60000 (34%)]\tLoss: 2.402860\n",
            "Train Epoch: 7 [30720/60000 (51%)]\tLoss: 2.402837\n",
            "Train Epoch: 7 [40960/60000 (68%)]\tLoss: 2.402853\n",
            "Train Epoch: 7 [51200/60000 (85%)]\tLoss: 2.402813\n",
            "\n",
            "Validation set: Average loss: 24.0282, Accuracy: 988/10000 (10%)\n",
            "\n",
            "Train Epoch: 8 [0/60000 (0%)]\tLoss: 2.402815\n",
            "Train Epoch: 8 [10240/60000 (17%)]\tLoss: 2.402812\n",
            "Train Epoch: 8 [20480/60000 (34%)]\tLoss: 2.402805\n",
            "Train Epoch: 8 [30720/60000 (51%)]\tLoss: 2.402782\n",
            "Train Epoch: 8 [40960/60000 (68%)]\tLoss: 2.402757\n",
            "Train Epoch: 8 [51200/60000 (85%)]\tLoss: 2.402763\n",
            "\n",
            "Validation set: Average loss: 24.0275, Accuracy: 1184/10000 (12%)\n",
            "\n",
            "Train Epoch: 9 [0/60000 (0%)]\tLoss: 2.402738\n",
            "Train Epoch: 9 [10240/60000 (17%)]\tLoss: 2.402740\n",
            "Train Epoch: 9 [20480/60000 (34%)]\tLoss: 2.402724\n",
            "Train Epoch: 9 [30720/60000 (51%)]\tLoss: 2.402718\n",
            "Train Epoch: 9 [40960/60000 (68%)]\tLoss: 2.402716\n",
            "Train Epoch: 9 [51200/60000 (85%)]\tLoss: 2.402709\n",
            "\n",
            "Validation set: Average loss: 24.0270, Accuracy: 1356/10000 (14%)\n",
            "\n",
            "Train Epoch: 10 [0/60000 (0%)]\tLoss: 2.402699\n",
            "Train Epoch: 10 [10240/60000 (17%)]\tLoss: 2.402698\n",
            "Train Epoch: 10 [20480/60000 (34%)]\tLoss: 2.402684\n",
            "Train Epoch: 10 [30720/60000 (51%)]\tLoss: 2.402683\n",
            "Train Epoch: 10 [40960/60000 (68%)]\tLoss: 2.402680\n",
            "Train Epoch: 10 [51200/60000 (85%)]\tLoss: 2.402670\n",
            "\n",
            "Validation set: Average loss: 24.0267, Accuracy: 1297/10000 (13%)\n",
            "\n",
            "############### EVALUATING LOSS FUNCTION mse_loss ###############\n",
            "Train Epoch: 1 [0/60000 (0%)]\tLoss: 5.865251\n",
            "Train Epoch: 1 [10240/60000 (17%)]\tLoss: 5.861141\n",
            "Train Epoch: 1 [20480/60000 (34%)]\tLoss: 5.860434\n",
            "Train Epoch: 1 [30720/60000 (51%)]\tLoss: 5.858024\n",
            "Train Epoch: 1 [40960/60000 (68%)]\tLoss: 5.857360\n",
            "Train Epoch: 1 [51200/60000 (85%)]\tLoss: 5.853467\n",
            "\n",
            "Validation set: Average loss: 58.5354, Accuracy: 6966/10000 (70%)\n",
            "\n",
            "Train Epoch: 2 [0/60000 (0%)]\tLoss: 5.853513\n",
            "Train Epoch: 2 [10240/60000 (17%)]\tLoss: 5.852253\n",
            "Train Epoch: 2 [20480/60000 (34%)]\tLoss: 5.851861\n",
            "Train Epoch: 2 [30720/60000 (51%)]\tLoss: 5.851317\n",
            "Train Epoch: 2 [40960/60000 (68%)]\tLoss: 5.849129\n",
            "Train Epoch: 2 [51200/60000 (85%)]\tLoss: 5.849562\n",
            "\n",
            "Validation set: Average loss: 58.4882, Accuracy: 8617/10000 (86%)\n",
            "\n",
            "Train Epoch: 3 [0/60000 (0%)]\tLoss: 5.848424\n",
            "Train Epoch: 3 [10240/60000 (17%)]\tLoss: 5.849038\n",
            "Train Epoch: 3 [20480/60000 (34%)]\tLoss: 5.847687\n",
            "Train Epoch: 3 [30720/60000 (51%)]\tLoss: 5.847594\n",
            "Train Epoch: 3 [40960/60000 (68%)]\tLoss: 5.846807\n",
            "Train Epoch: 3 [51200/60000 (85%)]\tLoss: 5.847705\n",
            "\n",
            "Validation set: Average loss: 58.4688, Accuracy: 8962/10000 (90%)\n",
            "\n",
            "Train Epoch: 4 [0/60000 (0%)]\tLoss: 5.847259\n",
            "Train Epoch: 4 [10240/60000 (17%)]\tLoss: 5.847441\n",
            "Train Epoch: 4 [20480/60000 (34%)]\tLoss: 5.846118\n",
            "Train Epoch: 4 [30720/60000 (51%)]\tLoss: 5.846442\n",
            "Train Epoch: 4 [40960/60000 (68%)]\tLoss: 5.845320\n",
            "Train Epoch: 4 [51200/60000 (85%)]\tLoss: 5.845362\n",
            "\n",
            "Validation set: Average loss: 58.4579, Accuracy: 9107/10000 (91%)\n",
            "\n",
            "Train Epoch: 5 [0/60000 (0%)]\tLoss: 5.846909\n",
            "Train Epoch: 5 [10240/60000 (17%)]\tLoss: 5.845311\n",
            "Train Epoch: 5 [20480/60000 (34%)]\tLoss: 5.845741\n",
            "Train Epoch: 5 [30720/60000 (51%)]\tLoss: 5.846968\n",
            "Train Epoch: 5 [40960/60000 (68%)]\tLoss: 5.845325\n",
            "Train Epoch: 5 [51200/60000 (85%)]\tLoss: 5.845668\n",
            "\n",
            "Validation set: Average loss: 58.4507, Accuracy: 9237/10000 (92%)\n",
            "\n",
            "Train Epoch: 6 [0/60000 (0%)]\tLoss: 5.845695\n",
            "Train Epoch: 6 [10240/60000 (17%)]\tLoss: 5.844718\n",
            "Train Epoch: 6 [20480/60000 (34%)]\tLoss: 5.845631\n",
            "Train Epoch: 6 [30720/60000 (51%)]\tLoss: 5.845737\n",
            "Train Epoch: 6 [40960/60000 (68%)]\tLoss: 5.844891\n",
            "Train Epoch: 6 [51200/60000 (85%)]\tLoss: 5.844513\n",
            "\n",
            "Validation set: Average loss: 58.4455, Accuracy: 9319/10000 (93%)\n",
            "\n",
            "Train Epoch: 7 [0/60000 (0%)]\tLoss: 5.844303\n",
            "Train Epoch: 7 [10240/60000 (17%)]\tLoss: 5.845000\n",
            "Train Epoch: 7 [20480/60000 (34%)]\tLoss: 5.844863\n",
            "Train Epoch: 7 [30720/60000 (51%)]\tLoss: 5.844718\n",
            "Train Epoch: 7 [40960/60000 (68%)]\tLoss: 5.844970\n",
            "Train Epoch: 7 [51200/60000 (85%)]\tLoss: 5.843854\n",
            "\n",
            "Validation set: Average loss: 58.4414, Accuracy: 9380/10000 (94%)\n",
            "\n",
            "Train Epoch: 8 [0/60000 (0%)]\tLoss: 5.843877\n",
            "Train Epoch: 8 [10240/60000 (17%)]\tLoss: 5.843484\n",
            "Train Epoch: 8 [20480/60000 (34%)]\tLoss: 5.843947\n",
            "Train Epoch: 8 [30720/60000 (51%)]\tLoss: 5.842933\n",
            "Train Epoch: 8 [40960/60000 (68%)]\tLoss: 5.843987\n",
            "Train Epoch: 8 [51200/60000 (85%)]\tLoss: 5.844524\n",
            "\n",
            "Validation set: Average loss: 58.4381, Accuracy: 9414/10000 (94%)\n",
            "\n",
            "Train Epoch: 9 [0/60000 (0%)]\tLoss: 5.843344\n",
            "Train Epoch: 9 [10240/60000 (17%)]\tLoss: 5.842856\n",
            "Train Epoch: 9 [20480/60000 (34%)]\tLoss: 5.843582\n",
            "Train Epoch: 9 [30720/60000 (51%)]\tLoss: 5.843137\n",
            "Train Epoch: 9 [40960/60000 (68%)]\tLoss: 5.843742\n",
            "Train Epoch: 9 [51200/60000 (85%)]\tLoss: 5.844425\n",
            "\n",
            "Validation set: Average loss: 58.4352, Accuracy: 9440/10000 (94%)\n",
            "\n",
            "Train Epoch: 10 [0/60000 (0%)]\tLoss: 5.844178\n",
            "Train Epoch: 10 [10240/60000 (17%)]\tLoss: 5.843276\n",
            "Train Epoch: 10 [20480/60000 (34%)]\tLoss: 5.843678\n",
            "Train Epoch: 10 [30720/60000 (51%)]\tLoss: 5.842943\n",
            "Train Epoch: 10 [40960/60000 (68%)]\tLoss: 5.843065\n",
            "Train Epoch: 10 [51200/60000 (85%)]\tLoss: 5.843713\n",
            "\n",
            "Validation set: Average loss: 58.4329, Accuracy: 9465/10000 (95%)\n",
            "\n",
            "############### EVALUATING LOSS FUNCTION nll_loss ###############\n",
            "Train Epoch: 1 [0/60000 (0%)]\tLoss: 2.289668\n",
            "Train Epoch: 1 [10240/60000 (17%)]\tLoss: 0.344375\n",
            "Train Epoch: 1 [20480/60000 (34%)]\tLoss: 0.260190\n",
            "Train Epoch: 1 [30720/60000 (51%)]\tLoss: 0.261407\n",
            "Train Epoch: 1 [40960/60000 (68%)]\tLoss: 0.251323\n",
            "Train Epoch: 1 [51200/60000 (85%)]\tLoss: 0.083558\n",
            "\n",
            "Validation set: Average loss: 0.1175, Accuracy: 9646/10000 (96%)\n",
            "\n",
            "Train Epoch: 2 [0/60000 (0%)]\tLoss: 0.137335\n",
            "Train Epoch: 2 [10240/60000 (17%)]\tLoss: 0.152185\n",
            "Train Epoch: 2 [20480/60000 (34%)]\tLoss: 0.131977\n",
            "Train Epoch: 2 [30720/60000 (51%)]\tLoss: 0.053816\n",
            "Train Epoch: 2 [40960/60000 (68%)]\tLoss: 0.051696\n",
            "Train Epoch: 2 [51200/60000 (85%)]\tLoss: 0.028629\n",
            "\n",
            "Validation set: Average loss: 0.0771, Accuracy: 9742/10000 (97%)\n",
            "\n",
            "Train Epoch: 3 [0/60000 (0%)]\tLoss: 0.079468\n",
            "Train Epoch: 3 [10240/60000 (17%)]\tLoss: 0.045636\n",
            "Train Epoch: 3 [20480/60000 (34%)]\tLoss: 0.049336\n",
            "Train Epoch: 3 [30720/60000 (51%)]\tLoss: 0.020602\n",
            "Train Epoch: 3 [40960/60000 (68%)]\tLoss: 0.024639\n",
            "Train Epoch: 3 [51200/60000 (85%)]\tLoss: 0.053195\n",
            "\n",
            "Validation set: Average loss: 0.0655, Accuracy: 9786/10000 (98%)\n",
            "\n",
            "Train Epoch: 4 [0/60000 (0%)]\tLoss: 0.018474\n",
            "Train Epoch: 4 [10240/60000 (17%)]\tLoss: 0.045355\n",
            "Train Epoch: 4 [20480/60000 (34%)]\tLoss: 0.079947\n",
            "Train Epoch: 4 [30720/60000 (51%)]\tLoss: 0.050275\n",
            "Train Epoch: 4 [40960/60000 (68%)]\tLoss: 0.053193\n",
            "Train Epoch: 4 [51200/60000 (85%)]\tLoss: 0.016900\n",
            "\n",
            "Validation set: Average loss: 0.0506, Accuracy: 9836/10000 (98%)\n",
            "\n",
            "Train Epoch: 5 [0/60000 (0%)]\tLoss: 0.058858\n",
            "Train Epoch: 5 [10240/60000 (17%)]\tLoss: 0.035554\n",
            "Train Epoch: 5 [20480/60000 (34%)]\tLoss: 0.033564\n",
            "Train Epoch: 5 [30720/60000 (51%)]\tLoss: 0.062880\n",
            "Train Epoch: 5 [40960/60000 (68%)]\tLoss: 0.052122\n",
            "Train Epoch: 5 [51200/60000 (85%)]\tLoss: 0.027847\n",
            "\n",
            "Validation set: Average loss: 0.0478, Accuracy: 9839/10000 (98%)\n",
            "\n",
            "Train Epoch: 6 [0/60000 (0%)]\tLoss: 0.049500\n",
            "Train Epoch: 6 [10240/60000 (17%)]\tLoss: 0.131723\n",
            "Train Epoch: 6 [20480/60000 (34%)]\tLoss: 0.029473\n",
            "Train Epoch: 6 [30720/60000 (51%)]\tLoss: 0.022499\n",
            "Train Epoch: 6 [40960/60000 (68%)]\tLoss: 0.058209\n",
            "Train Epoch: 6 [51200/60000 (85%)]\tLoss: 0.187645\n",
            "\n",
            "Validation set: Average loss: 0.0422, Accuracy: 9864/10000 (99%)\n",
            "\n",
            "Train Epoch: 7 [0/60000 (0%)]\tLoss: 0.011882\n",
            "Train Epoch: 7 [10240/60000 (17%)]\tLoss: 0.045314\n",
            "Train Epoch: 7 [20480/60000 (34%)]\tLoss: 0.156604\n",
            "Train Epoch: 7 [30720/60000 (51%)]\tLoss: 0.018841\n",
            "Train Epoch: 7 [40960/60000 (68%)]\tLoss: 0.050125\n",
            "Train Epoch: 7 [51200/60000 (85%)]\tLoss: 0.028649\n",
            "\n",
            "Validation set: Average loss: 0.0507, Accuracy: 9844/10000 (98%)\n",
            "\n",
            "Train Epoch: 8 [0/60000 (0%)]\tLoss: 0.088408\n",
            "Train Epoch: 8 [10240/60000 (17%)]\tLoss: 0.054525\n",
            "Train Epoch: 8 [20480/60000 (34%)]\tLoss: 0.016765\n",
            "Train Epoch: 8 [30720/60000 (51%)]\tLoss: 0.028298\n",
            "Train Epoch: 8 [40960/60000 (68%)]\tLoss: 0.033870\n",
            "Train Epoch: 8 [51200/60000 (85%)]\tLoss: 0.095734\n",
            "\n",
            "Validation set: Average loss: 0.0361, Accuracy: 9882/10000 (99%)\n",
            "\n",
            "Train Epoch: 9 [0/60000 (0%)]\tLoss: 0.011396\n",
            "Train Epoch: 9 [10240/60000 (17%)]\tLoss: 0.038188\n",
            "Train Epoch: 9 [20480/60000 (34%)]\tLoss: 0.008373\n",
            "Train Epoch: 9 [30720/60000 (51%)]\tLoss: 0.005379\n",
            "Train Epoch: 9 [40960/60000 (68%)]\tLoss: 0.057066\n",
            "Train Epoch: 9 [51200/60000 (85%)]\tLoss: 0.053459\n",
            "\n",
            "Validation set: Average loss: 0.0381, Accuracy: 9880/10000 (99%)\n",
            "\n",
            "Train Epoch: 10 [0/60000 (0%)]\tLoss: 0.012849\n",
            "Train Epoch: 10 [10240/60000 (17%)]\tLoss: 0.010793\n",
            "Train Epoch: 10 [20480/60000 (34%)]\tLoss: 0.026745\n",
            "Train Epoch: 10 [30720/60000 (51%)]\tLoss: 0.030138\n",
            "Train Epoch: 10 [40960/60000 (68%)]\tLoss: 0.028357\n",
            "Train Epoch: 10 [51200/60000 (85%)]\tLoss: 0.009533\n",
            "\n",
            "Validation set: Average loss: 0.0357, Accuracy: 9874/10000 (99%)\n",
            "\n",
            "############### EVALUATING LOSS FUNCTION cross_entropy ###############\n",
            "Train Epoch: 1 [0/60000 (0%)]\tLoss: 5.419838\n",
            "Train Epoch: 1 [10240/60000 (17%)]\tLoss: 0.156626\n",
            "Train Epoch: 1 [20480/60000 (34%)]\tLoss: 0.153064\n",
            "Train Epoch: 1 [30720/60000 (51%)]\tLoss: 0.096159\n",
            "Train Epoch: 1 [40960/60000 (68%)]\tLoss: 0.068363\n",
            "Train Epoch: 1 [51200/60000 (85%)]\tLoss: 0.063069\n",
            "\n",
            "Validation set: Average loss: 0.0574, Accuracy: 9807/10000 (98%)\n",
            "\n",
            "Train Epoch: 2 [0/60000 (0%)]\tLoss: 0.049231\n",
            "Train Epoch: 2 [10240/60000 (17%)]\tLoss: 0.024242\n",
            "Train Epoch: 2 [20480/60000 (34%)]\tLoss: 0.076390\n",
            "Train Epoch: 2 [30720/60000 (51%)]\tLoss: 0.056319\n",
            "Train Epoch: 2 [40960/60000 (68%)]\tLoss: 0.058704\n",
            "Train Epoch: 2 [51200/60000 (85%)]\tLoss: 0.086420\n",
            "\n",
            "Validation set: Average loss: 0.0471, Accuracy: 9845/10000 (98%)\n",
            "\n",
            "Train Epoch: 3 [0/60000 (0%)]\tLoss: 0.073540\n",
            "Train Epoch: 3 [10240/60000 (17%)]\tLoss: 0.077282\n",
            "Train Epoch: 3 [20480/60000 (34%)]\tLoss: 0.073058\n",
            "Train Epoch: 3 [30720/60000 (51%)]\tLoss: 0.071807\n",
            "Train Epoch: 3 [40960/60000 (68%)]\tLoss: 0.011784\n",
            "Train Epoch: 3 [51200/60000 (85%)]\tLoss: 0.060363\n",
            "\n",
            "Validation set: Average loss: 0.0367, Accuracy: 9882/10000 (99%)\n",
            "\n",
            "Train Epoch: 4 [0/60000 (0%)]\tLoss: 0.029373\n",
            "Train Epoch: 4 [10240/60000 (17%)]\tLoss: 0.050345\n",
            "Train Epoch: 4 [20480/60000 (34%)]\tLoss: 0.053540\n",
            "Train Epoch: 4 [30720/60000 (51%)]\tLoss: 0.023987\n",
            "Train Epoch: 4 [40960/60000 (68%)]\tLoss: 0.037462\n",
            "Train Epoch: 4 [51200/60000 (85%)]\tLoss: 0.010684\n",
            "\n",
            "Validation set: Average loss: 0.0350, Accuracy: 9884/10000 (99%)\n",
            "\n",
            "Train Epoch: 5 [0/60000 (0%)]\tLoss: 0.019464\n",
            "Train Epoch: 5 [10240/60000 (17%)]\tLoss: 0.029690\n",
            "Train Epoch: 5 [20480/60000 (34%)]\tLoss: 0.039886\n",
            "Train Epoch: 5 [30720/60000 (51%)]\tLoss: 0.015578\n",
            "Train Epoch: 5 [40960/60000 (68%)]\tLoss: 0.040756\n",
            "Train Epoch: 5 [51200/60000 (85%)]\tLoss: 0.050801\n",
            "\n",
            "Validation set: Average loss: 0.0326, Accuracy: 9905/10000 (99%)\n",
            "\n",
            "Train Epoch: 6 [0/60000 (0%)]\tLoss: 0.012746\n",
            "Train Epoch: 6 [10240/60000 (17%)]\tLoss: 0.066635\n",
            "Train Epoch: 6 [20480/60000 (34%)]\tLoss: 0.017154\n",
            "Train Epoch: 6 [30720/60000 (51%)]\tLoss: 0.046657\n",
            "Train Epoch: 6 [40960/60000 (68%)]\tLoss: 0.056267\n",
            "Train Epoch: 6 [51200/60000 (85%)]\tLoss: 0.025521\n",
            "\n",
            "Validation set: Average loss: 0.0321, Accuracy: 9896/10000 (99%)\n",
            "\n",
            "Train Epoch: 7 [0/60000 (0%)]\tLoss: 0.031302\n",
            "Train Epoch: 7 [10240/60000 (17%)]\tLoss: 0.013867\n",
            "Train Epoch: 7 [20480/60000 (34%)]\tLoss: 0.027115\n",
            "Train Epoch: 7 [30720/60000 (51%)]\tLoss: 0.039445\n",
            "Train Epoch: 7 [40960/60000 (68%)]\tLoss: 0.007794\n",
            "Train Epoch: 7 [51200/60000 (85%)]\tLoss: 0.014034\n",
            "\n",
            "Validation set: Average loss: 0.0358, Accuracy: 9881/10000 (99%)\n",
            "\n",
            "Train Epoch: 8 [0/60000 (0%)]\tLoss: 0.005252\n",
            "Train Epoch: 8 [10240/60000 (17%)]\tLoss: 0.019750\n",
            "Train Epoch: 8 [20480/60000 (34%)]\tLoss: 0.038076\n",
            "Train Epoch: 8 [30720/60000 (51%)]\tLoss: 0.011541\n",
            "Train Epoch: 8 [40960/60000 (68%)]\tLoss: 0.021067\n",
            "Train Epoch: 8 [51200/60000 (85%)]\tLoss: 0.009069\n",
            "\n",
            "Validation set: Average loss: 0.0292, Accuracy: 9907/10000 (99%)\n",
            "\n",
            "Train Epoch: 9 [0/60000 (0%)]\tLoss: 0.018403\n",
            "Train Epoch: 9 [10240/60000 (17%)]\tLoss: 0.004414\n",
            "Train Epoch: 9 [20480/60000 (34%)]\tLoss: 0.003781\n",
            "Train Epoch: 9 [30720/60000 (51%)]\tLoss: 0.037899\n",
            "Train Epoch: 9 [40960/60000 (68%)]\tLoss: 0.005589\n",
            "Train Epoch: 9 [51200/60000 (85%)]\tLoss: 0.039604\n",
            "\n",
            "Validation set: Average loss: 0.0299, Accuracy: 9903/10000 (99%)\n",
            "\n",
            "Train Epoch: 10 [0/60000 (0%)]\tLoss: 0.040621\n",
            "Train Epoch: 10 [10240/60000 (17%)]\tLoss: 0.042019\n",
            "Train Epoch: 10 [20480/60000 (34%)]\tLoss: 0.022411\n",
            "Train Epoch: 10 [30720/60000 (51%)]\tLoss: 0.011483\n",
            "Train Epoch: 10 [40960/60000 (68%)]\tLoss: 0.001672\n",
            "Train Epoch: 10 [51200/60000 (85%)]\tLoss: 0.025227\n",
            "\n",
            "Validation set: Average loss: 0.0286, Accuracy: 9907/10000 (99%)\n",
            "\n",
            "############### EVALUATING LOSS FUNCTION multi_margin_loss ###############\n",
            "Train Epoch: 1 [0/60000 (0%)]\tLoss: 1.846182\n",
            "Train Epoch: 1 [10240/60000 (17%)]\tLoss: 0.047083\n",
            "Train Epoch: 1 [20480/60000 (34%)]\tLoss: 0.025067\n",
            "Train Epoch: 1 [30720/60000 (51%)]\tLoss: 0.014281\n",
            "Train Epoch: 1 [40960/60000 (68%)]\tLoss: 0.002714\n",
            "Train Epoch: 1 [51200/60000 (85%)]\tLoss: 0.006617\n",
            "\n",
            "Validation set: Average loss: 0.0098, Accuracy: 9729/10000 (97%)\n",
            "\n",
            "Train Epoch: 2 [0/60000 (0%)]\tLoss: 0.011372\n",
            "Train Epoch: 2 [10240/60000 (17%)]\tLoss: 0.008287\n",
            "Train Epoch: 2 [20480/60000 (34%)]\tLoss: 0.005318\n",
            "Train Epoch: 2 [30720/60000 (51%)]\tLoss: 0.001327\n",
            "Train Epoch: 2 [40960/60000 (68%)]\tLoss: 0.002257\n",
            "Train Epoch: 2 [51200/60000 (85%)]\tLoss: 0.005557\n",
            "\n",
            "Validation set: Average loss: 0.0071, Accuracy: 9796/10000 (98%)\n",
            "\n",
            "Train Epoch: 3 [0/60000 (0%)]\tLoss: 0.004490\n",
            "Train Epoch: 3 [10240/60000 (17%)]\tLoss: 0.004560\n",
            "Train Epoch: 3 [20480/60000 (34%)]\tLoss: 0.009285\n",
            "Train Epoch: 3 [30720/60000 (51%)]\tLoss: 0.005503\n",
            "Train Epoch: 3 [40960/60000 (68%)]\tLoss: 0.003436\n",
            "Train Epoch: 3 [51200/60000 (85%)]\tLoss: 0.008246\n",
            "\n",
            "Validation set: Average loss: 0.0066, Accuracy: 9822/10000 (98%)\n",
            "\n",
            "Train Epoch: 4 [0/60000 (0%)]\tLoss: 0.005598\n",
            "Train Epoch: 4 [10240/60000 (17%)]\tLoss: 0.006829\n",
            "Train Epoch: 4 [20480/60000 (34%)]\tLoss: 0.004032\n",
            "Train Epoch: 4 [30720/60000 (51%)]\tLoss: 0.002151\n",
            "Train Epoch: 4 [40960/60000 (68%)]\tLoss: 0.012983\n",
            "Train Epoch: 4 [51200/60000 (85%)]\tLoss: 0.004244\n",
            "\n",
            "Validation set: Average loss: 0.0057, Accuracy: 9837/10000 (98%)\n",
            "\n",
            "Train Epoch: 5 [0/60000 (0%)]\tLoss: 0.002287\n",
            "Train Epoch: 5 [10240/60000 (17%)]\tLoss: 0.000150\n",
            "Train Epoch: 5 [20480/60000 (34%)]\tLoss: 0.002530\n",
            "Train Epoch: 5 [30720/60000 (51%)]\tLoss: 0.014537\n",
            "Train Epoch: 5 [40960/60000 (68%)]\tLoss: 0.000637\n",
            "Train Epoch: 5 [51200/60000 (85%)]\tLoss: 0.013254\n",
            "\n",
            "Validation set: Average loss: 0.0052, Accuracy: 9852/10000 (99%)\n",
            "\n",
            "Train Epoch: 6 [0/60000 (0%)]\tLoss: 0.007013\n",
            "Train Epoch: 6 [10240/60000 (17%)]\tLoss: 0.003750\n",
            "Train Epoch: 6 [20480/60000 (34%)]\tLoss: 0.004538\n",
            "Train Epoch: 6 [30720/60000 (51%)]\tLoss: 0.001305\n",
            "Train Epoch: 6 [40960/60000 (68%)]\tLoss: 0.005016\n",
            "Train Epoch: 6 [51200/60000 (85%)]\tLoss: 0.003336\n",
            "\n",
            "Validation set: Average loss: 0.0047, Accuracy: 9860/10000 (99%)\n",
            "\n",
            "Train Epoch: 7 [0/60000 (0%)]\tLoss: 0.008521\n",
            "Train Epoch: 7 [10240/60000 (17%)]\tLoss: 0.003150\n",
            "Train Epoch: 7 [20480/60000 (34%)]\tLoss: 0.000572\n",
            "Train Epoch: 7 [30720/60000 (51%)]\tLoss: 0.005060\n",
            "Train Epoch: 7 [40960/60000 (68%)]\tLoss: 0.006874\n",
            "Train Epoch: 7 [51200/60000 (85%)]\tLoss: 0.002693\n",
            "\n",
            "Validation set: Average loss: 0.0046, Accuracy: 9866/10000 (99%)\n",
            "\n",
            "Train Epoch: 8 [0/60000 (0%)]\tLoss: 0.009095\n",
            "Train Epoch: 8 [10240/60000 (17%)]\tLoss: 0.008491\n",
            "Train Epoch: 8 [20480/60000 (34%)]\tLoss: 0.003832\n",
            "Train Epoch: 8 [30720/60000 (51%)]\tLoss: 0.003419\n",
            "Train Epoch: 8 [40960/60000 (68%)]\tLoss: 0.000998\n",
            "Train Epoch: 8 [51200/60000 (85%)]\tLoss: 0.000467\n",
            "\n",
            "Validation set: Average loss: 0.0044, Accuracy: 9869/10000 (99%)\n",
            "\n",
            "Train Epoch: 9 [0/60000 (0%)]\tLoss: 0.002173\n",
            "Train Epoch: 9 [10240/60000 (17%)]\tLoss: 0.002665\n",
            "Train Epoch: 9 [20480/60000 (34%)]\tLoss: 0.005739\n",
            "Train Epoch: 9 [30720/60000 (51%)]\tLoss: 0.002953\n",
            "Train Epoch: 9 [40960/60000 (68%)]\tLoss: 0.002614\n",
            "Train Epoch: 9 [51200/60000 (85%)]\tLoss: 0.001300\n",
            "\n",
            "Validation set: Average loss: 0.0043, Accuracy: 9879/10000 (99%)\n",
            "\n",
            "Train Epoch: 10 [0/60000 (0%)]\tLoss: 0.001369\n",
            "Train Epoch: 10 [10240/60000 (17%)]\tLoss: 0.011016\n",
            "Train Epoch: 10 [20480/60000 (34%)]\tLoss: 0.006125\n",
            "Train Epoch: 10 [30720/60000 (51%)]\tLoss: 0.008369\n",
            "Train Epoch: 10 [40960/60000 (68%)]\tLoss: 0.003071\n",
            "Train Epoch: 10 [51200/60000 (85%)]\tLoss: 0.002452\n",
            "\n",
            "Validation set: Average loss: 0.0044, Accuracy: 9869/10000 (99%)\n",
            "\n"
          ],
          "name": "stdout"
        }
      ]
    },
    {
      "metadata": {
        "id": "VJxJWSR04ZO3",
        "colab_type": "code",
        "colab": {}
      },
      "cell_type": "code",
      "source": [
        "#print(results)"
      ],
      "execution_count": 0,
      "outputs": []
    },
    {
      "metadata": {
        "id": "_A3xliS35k8k",
        "colab_type": "text"
      },
      "cell_type": "markdown",
      "source": [
        "Here, the evolution of the train losses for each loss function is plotted. It can be seen that Negative-Log-Likelihood loss, Cross-Entropy loss, and Multi-Margin loss (Hinge loss) functions are the ones that work better."
      ]
    },
    {
      "metadata": {
        "id": "VnxeVpnC4kls",
        "colab_type": "code",
        "outputId": "76fac4e5-c723-4a6a-f8aa-14b610a57956",
        "colab": {
          "base_uri": "https://localhost:8080/",
          "height": 361
        }
      },
      "cell_type": "code",
      "source": [
        "plt.gcf().clear()\n",
        "plt.ylabel(\"Output of the Loss Function\")\n",
        "plt.xlabel(\"Number of train epochs\")\n",
        "plt.plot(results[\"l1_loss\"][\"train\"][\"train_losses\"], 'r-')\n",
        "plt.plot(results[\"mse_loss\"][\"train\"][\"train_losses\"], 'g-')\n",
        "plt.plot(results[\"nll_loss\"][\"train\"][\"train_losses\"], 'b-')\n",
        "plt.plot(results[\"cross_entropy\"][\"train\"][\"train_losses\"], 'y-')\n",
        "plt.plot(results[\"multi_margin_loss\"][\"train\"][\"train_losses\"], 'k-')\n",
        "plt.show()"
      ],
      "execution_count": 0,
      "outputs": [
        {
          "output_type": "display_data",
          "data": {
            "image/png": "[encoded data removed]",
            "text/plain": [
              "<Figure size 576x396 with 1 Axes>"
            ]
          },
          "metadata": {
            "tags": []
          }
        }
      ]
    },
    {
      "metadata": {
        "id": "Wj3Sicv28MY7",
        "colab_type": "text"
      },
      "cell_type": "markdown",
      "source": [
        "L1 and MSE loss functions do not behave properly, as it can be seen by the value of the losses they output, and how it varies over time: it is very high and it almost remains unchanged in comparison to other loss functions. This was alread expected: these loss functions are designed for regression problems, not classification ones. Thus, the loss is very high. \n",
        "\n",
        "The outputted loss is higher for the MSE loss function than for the L1 but this does not mean that the MSE function is worse. This is explained because the MSE squares the differences, so they are naturally higher in comparison to the absolute value of the differences.\n",
        "\n",
        "On the contrary, the MSE loss function produces better results than the L1 one, with its achieved accuracy being way higher than the L1 one (95% vs 14%), so it is clearly better -and clearly, the L1 loss function can not be used. Anyway, although the value of the accuracy is quite high, the performance of the MSE is quite worse than the loss functions designed for classifiers, because the MSE converges very slowly in comparison to them, as we will see now.\n",
        "\n",
        "As it can be seen in the next plots, that show how the loss outputted by the L1 and MSE loss functions evolves over time, it takes a while for the MSE to converge."
      ]
    },
    {
      "metadata": {
        "id": "2Lh7kIt-84Cb",
        "colab_type": "code",
        "outputId": "85431eb8-84b1-4091-a903-e42d3da7279b",
        "colab": {
          "base_uri": "https://localhost:8080/",
          "height": 361
        }
      },
      "cell_type": "code",
      "source": [
        "plt.gcf().clear()\n",
        "plt.ylabel(\"Output of the Loss Function\")\n",
        "plt.xlabel(\"Number of trained batches\")\n",
        "plt.plot(results[\"l1_loss\"][\"train\"][\"train_losses\"], 'r-')\n",
        "plt.show()"
      ],
      "execution_count": 0,
      "outputs": [
        {
          "output_type": "display_data",
          "data": {
            "image/png": "[encoded data removed]",
            "text/plain": [
              "<Figure size 576x396 with 1 Axes>"
            ]
          },
          "metadata": {
            "tags": []
          }
        }
      ]
    },
    {
      "metadata": {
        "id": "fxavrQjn8GPz",
        "colab_type": "code",
        "outputId": "247f4589-d094-447b-9476-9e89bb6761f1",
        "colab": {
          "base_uri": "https://localhost:8080/",
          "height": 361
        }
      },
      "cell_type": "code",
      "source": [
        "plt.gcf().clear()\n",
        "plt.ylabel(\"Output of the Loss Function\")\n",
        "plt.xlabel(\"Number of trained batches\")\n",
        "plt.plot(results[\"mse_loss\"][\"train\"][\"train_losses\"], 'g-')\n",
        "plt.show()"
      ],
      "execution_count": 0,
      "outputs": [
        {
          "output_type": "display_data",
          "data": {
            "image/png": "[encoded data removed]",
            "text/plain": [
              "<Figure size 576x396 with 1 Axes>"
            ]
          },
          "metadata": {
            "tags": []
          }
        }
      ]
    },
    {
      "metadata": {
        "id": "3L6B0y3t6V1H",
        "colab_type": "text"
      },
      "cell_type": "markdown",
      "source": [
        "Next, there is a zoom-in for the loss functions devoted to classification problems (Negative-Log-Likelihood Loss, Cross-Entropy Loss, and Multi-Margin Loss), which clearly work better than the more regression-oriented ones.\n",
        "\n",
        "First of all, it can be seen that their convergence time is much quicker than the MSE loss function. Also they produce better accuracy (99%), and converge quicker, they are clearly better loss functions.\n",
        "\n",
        "Comparing them, it can be seen that the Multi-Margin loss function (which is the Hinge loss function adapted for a multi-class classification problem) works the best out of the three, producing a loss with a very low variability. Both Cross-Entropy and Multi-Margin loss converge very quickly, while the Negative-Log-Likelihood loss function needs a bit more of time."
      ]
    },
    {
      "metadata": {
        "id": "XKwkmQJg6Rqo",
        "colab_type": "code",
        "outputId": "7dfa730f-4e66-497d-f95d-686847bd8f8a",
        "colab": {
          "base_uri": "https://localhost:8080/",
          "height": 361
        }
      },
      "cell_type": "code",
      "source": [
        "plt.gcf().clear()\n",
        "plt.ylabel(\"Output of the Loss Function\")\n",
        "plt.xlabel(\"Number of trained batches\")\n",
        "plt.plot(results[\"nll_loss\"][\"train\"][\"train_losses\"], 'b-')\n",
        "plt.plot(results[\"cross_entropy\"][\"train\"][\"train_losses\"], 'y-')\n",
        "plt.plot(results[\"multi_margin_loss\"][\"train\"][\"train_losses\"], 'k-')\n",
        "plt.show()"
      ],
      "execution_count": 0,
      "outputs": [
        {
          "output_type": "display_data",
          "data": {
            "image/png": "[encoded data removed]",
            "text/plain": [
              "<Figure size 576x396 with 1 Axes>"
            ]
          },
          "metadata": {
            "tags": []
          }
        }
      ]
    },
    {
      "metadata": {
        "id": "0thL8fLJ6koc",
        "colab_type": "code",
        "outputId": "e9ad565c-c223-4c5a-bafd-230f713f6ed1",
        "colab": {
          "base_uri": "https://localhost:8080/",
          "height": 361
        }
      },
      "cell_type": "code",
      "source": [
        "plt.gcf().clear()\n",
        "plt.ylabel(\"Output of the Loss Function\")\n",
        "plt.xlabel(\"Number of trained batches\")\n",
        "plt.plot(results[\"cross_entropy\"][\"train\"][\"train_losses\"], 'y-')\n",
        "plt.plot(results[\"multi_margin_loss\"][\"train\"][\"train_losses\"], 'k-')\n",
        "plt.show()"
      ],
      "execution_count": 0,
      "outputs": [
        {
          "output_type": "display_data",
          "data": {
            "image/png": "[encoded data removed]",
            "text/plain": [
              "<Figure size 576x396 with 1 Axes>"
            ]
          },
          "metadata": {
            "tags": []
          }
        }
      ]
    },
    {
      "metadata": {
        "id": "k0yfOdB_75fb",
        "colab_type": "text"
      },
      "cell_type": "markdown",
      "source": [
        "Let's now plot the same graphs for the validation batch, to ensure that the obtained models were not overfitting on the training batch. Next plot shows that the general behavior of all functions remains the same.\n"
      ]
    },
    {
      "metadata": {
        "id": "1pKTrfmh7oYj",
        "colab_type": "code",
        "outputId": "2dc30c94-fe1e-438d-fdc5-3a61b4eb3880",
        "colab": {
          "base_uri": "https://localhost:8080/",
          "height": 361
        }
      },
      "cell_type": "code",
      "source": [
        "plt.gcf().clear()\n",
        "plt.ylabel(\"Output of the Loss Function\")\n",
        "plt.xlabel(\"Number of validated batches\")\n",
        "plt.plot(results[\"l1_loss\"][\"valid\"][\"valid_losses\"], 'r-')\n",
        "plt.plot(results[\"mse_loss\"][\"valid\"][\"valid_losses\"], 'g-')\n",
        "plt.plot(results[\"nll_loss\"][\"valid\"][\"valid_losses\"], 'b-')\n",
        "plt.plot(results[\"cross_entropy\"][\"valid\"][\"valid_losses\"], 'y-')\n",
        "plt.plot(results[\"multi_margin_loss\"][\"valid\"][\"valid_losses\"], 'k-')\n",
        "plt.show()"
      ],
      "execution_count": 0,
      "outputs": [
        {
          "output_type": "display_data",
          "data": {
            "image/png": "[encoded data removed]",
            "text/plain": [
              "<Figure size 576x396 with 1 Axes>"
            ]
          },
          "metadata": {
            "tags": []
          }
        }
      ]
    },
    {
      "metadata": {
        "id": "ZSSPEuNenCNw",
        "colab_type": "text"
      },
      "cell_type": "markdown",
      "source": [
        "As the three classification-oriented loss functions are superposed, lets plot only them three to see the diferences between them. Again, it can be seen that the Multi-Margin loss function works better than the other ones."
      ]
    },
    {
      "metadata": {
        "id": "IwD_490C7-FO",
        "colab_type": "code",
        "outputId": "021c94bf-9195-403f-ba80-1d100f8a8c46",
        "colab": {
          "base_uri": "https://localhost:8080/",
          "height": 361
        }
      },
      "cell_type": "code",
      "source": [
        "plt.gcf().clear()\n",
        "plt.ylabel(\"Output of the Loss Function\")\n",
        "plt.xlabel(\"Number of validated batches\")\n",
        "plt.plot(results[\"nll_loss\"][\"valid\"][\"valid_losses\"], 'b-')\n",
        "plt.plot(results[\"cross_entropy\"][\"valid\"][\"valid_losses\"], 'y-')\n",
        "plt.plot(results[\"multi_margin_loss\"][\"valid\"][\"valid_losses\"], 'k-')\n",
        "plt.show()"
      ],
      "execution_count": 0,
      "outputs": [
        {
          "output_type": "display_data",
          "data": {
            "image/png": "[encoded data removed]",
            "text/plain": [
              "<Figure size 576x396 with 1 Axes>"
            ]
          },
          "metadata": {
            "tags": []
          }
        }
      ]
    },
    {
      "metadata": {
        "id": "pqGBxgXynUCW",
        "colab_type": "text"
      },
      "cell_type": "markdown",
      "source": [
        "Let's zoom in to the Multi-Margin Loss. It can be seen that it converges very quickly and into the lower loss of all. It also produces a very high (99%) accuracy, so it is clearly the best loss function out of the analysed ones."
      ]
    },
    {
      "metadata": {
        "id": "JYtRAvyHcKj6",
        "colab_type": "code",
        "outputId": "8ad56619-d605-4f3e-b15f-0ed9b89a9db7",
        "colab": {
          "base_uri": "https://localhost:8080/",
          "height": 361
        }
      },
      "cell_type": "code",
      "source": [
        "plt.gcf().clear()\n",
        "plt.ylabel(\"Output of the Loss Function\")\n",
        "plt.xlabel(\"Number of validated batches\")\n",
        "plt.plot(results[\"multi_margin_loss\"][\"valid\"][\"valid_losses\"], 'k-')\n",
        "plt.show()"
      ],
      "execution_count": 0,
      "outputs": [
        {
          "output_type": "display_data",
          "data": {
            "image/png": "[encoded data removed]",
            "text/plain": [
              "<Figure size 576x396 with 1 Axes>"
            ]
          },
          "metadata": {
            "tags": []
          }
        }
      ]
    },
    {
      "metadata": {
        "id": "FwAi_H64rMdi",
        "colab_type": "text"
      },
      "cell_type": "markdown",
      "source": [
        "As it was thought when designing the train method and thus choosing the loss functions that were going to be evaluated, this study has shown that:\n",
        "\n",
        "\n",
        "*   L1 and MSE loss functions (which are regression-oriented) do not perform well (the L1 loss function can not be used because it fails to achieve a proper accuracy, and the MSE offers a good accuracy but takes much more time to converge in comparison to classification-orientd loss functions)\n",
        "*   The three classification-oriented output a low loss in general and achieve more or less quickly an accuracy of around 99%, from these three functions, the Negative-Log-Likelihood takes a bit more time to converge, and has more variability in the loss\n",
        "*   Between the Negative-Log-Likelihood and the Cross-Entropy loss functions, the latter is preferred as it converges faster and has less loss variability. They behave very similarly, as it was predicted, though, because the Cross-Entropy function is basically a combination of a Negative-Log-Likelihood function with a Log-Softmax one, so it performs similarly while boosting high values\n",
        "*   The Hinge loss works best for classification problems (it produces a very low loss, is the faster to converge, also offers 99% accuracy) as literature [1] suggested that it could be shown empirically\n",
        "\n",
        "\n",
        "\n"
      ]
    },
    {
      "metadata": {
        "id": "v8pWdQfOqQ6l",
        "colab_type": "text"
      },
      "cell_type": "markdown",
      "source": [
        "[1] Pytorch, Neural Network Loss Functions - https://pytorch.org/docs/stable/nn.html#loss-functions\n",
        "\n",
        "[2] *Are Loss Functions All the Same?*, L. Rosasco, E. De Vito, A. Camponnetto, M. Piana, A. Verri - http://web.mit.edu/lrosasco/www/publications/loss.pdf"
      ]
    }
  ]
}