{
  "nbformat": 4,
  "nbformat_minor": 0,
  "metadata": {
    "colab": {
      "name": "IDL2019_FeatureScaling.ipynb",
      "version": "0.3.2",
      "provenance": [],
      "collapsed_sections": []
    },
    "kernelspec": {
      "name": "python3",
      "display_name": "Python 3"
    },
    "accelerator": "GPU"
  },
  "cells": [
    {
      "metadata": {
        "id": "YTe1C5XDclhf",
        "colab_type": "text"
      },
      "cell_type": "markdown",
      "source": [
        "This notebook illustrates the use of convolutional networks for a multiclass classification over the MNIST dataset. This notebook is based on the PyTorch MNIST example: https://github.com/pytorch/examples/tree/master/mnist\n",
        "\n",
        "The MNIST dataset contains handwritten digits like these:\n",
        "\n",
        " ![MNIST samples](https://upload.wikimedia.org/wikipedia/commons/2/27/MnistExamples.png)\n",
        "\n",
        "Each digit is 28x28 pixels and is labeled with the digit it contains, e.g. this is labeled with a \"0\":\n",
        "\n",
        "<img src=\"http://neuralnetworksanddeeplearning.com/images/mnist_complete_zero.png\" width=\"200\">\n"
      ]
    },
    {
      "metadata": {
        "id": "ypFnkACT2Iam",
        "colab_type": "code",
        "outputId": "34881087-481b-43e2-9df3-648ff99d647b",
        "colab": {
          "base_uri": "https://localhost:8080/",
          "height": 343
        }
      },
      "cell_type": "code",
      "source": [
        "!pip install pillow==5.4.1\n",
        "!pip install matplotlib\n",
        "!pip install scikit-learn\n",
        "!pip install torch\n",
        "!pip install torchvision"
      ],
      "execution_count": 0,
      "outputs": [
        {
          "output_type": "stream",
          "text": [
            "Requirement already satisfied: pillow==5.4.1 in /usr/local/lib/python3.6/dist-packages (5.4.1)\n",
            "Requirement already satisfied: matplotlib in /usr/local/lib/python3.6/dist-packages (3.0.2)\n",
            "Requirement already satisfied: pyparsing!=2.0.4,!=2.1.2,!=2.1.6,>=2.0.1 in /usr/local/lib/python3.6/dist-packages (from matplotlib) (2.3.1)\n",
            "Requirement already satisfied: python-dateutil>=2.1 in /usr/local/lib/python3.6/dist-packages (from matplotlib) (2.5.3)\n",
            "Requirement already satisfied: cycler>=0.10 in /usr/local/lib/python3.6/dist-packages (from matplotlib) (0.10.0)\n",
            "Requirement already satisfied: kiwisolver>=1.0.1 in /usr/local/lib/python3.6/dist-packages (from matplotlib) (1.0.1)\n",
            "Requirement already satisfied: numpy>=1.10.0 in /usr/local/lib/python3.6/dist-packages (from matplotlib) (1.14.6)\n",
            "Requirement already satisfied: six>=1.5 in /usr/local/lib/python3.6/dist-packages (from python-dateutil>=2.1->matplotlib) (1.11.0)\n",
            "Requirement already satisfied: setuptools in /usr/local/lib/python3.6/dist-packages (from kiwisolver>=1.0.1->matplotlib) (40.6.3)\n",
            "Requirement already satisfied: scikit-learn in /usr/local/lib/python3.6/dist-packages (0.20.2)\n",
            "Requirement already satisfied: scipy>=0.13.3 in /usr/local/lib/python3.6/dist-packages (from scikit-learn) (1.1.0)\n",
            "Requirement already satisfied: numpy>=1.8.2 in /usr/local/lib/python3.6/dist-packages (from scikit-learn) (1.14.6)\n",
            "Requirement already satisfied: torch in /usr/local/lib/python3.6/dist-packages (1.0.0)\n",
            "Requirement already satisfied: torchvision in /usr/local/lib/python3.6/dist-packages (0.2.1)\n",
            "Requirement already satisfied: torch in /usr/local/lib/python3.6/dist-packages (from torchvision) (1.0.0)\n",
            "Requirement already satisfied: numpy in /usr/local/lib/python3.6/dist-packages (from torchvision) (1.14.6)\n",
            "Requirement already satisfied: pillow>=4.1.1 in /usr/local/lib/python3.6/dist-packages (from torchvision) (5.4.1)\n",
            "Requirement already satisfied: six in /usr/local/lib/python3.6/dist-packages (from torchvision) (1.11.0)\n"
          ],
          "name": "stdout"
        }
      ]
    },
    {
      "metadata": {
        "id": "kMd_kEOr2NvZ",
        "colab_type": "code",
        "colab": {}
      },
      "cell_type": "code",
      "source": [
        "import matplotlib.pyplot as plt\n",
        "import torch\n",
        "import torch.nn as nn\n",
        "import torch.nn.functional as F\n",
        "import torch.optim as optim\n",
        "from torchvision import datasets, transforms"
      ],
      "execution_count": 0,
      "outputs": []
    },
    {
      "metadata": {
        "id": "nzndZca2JgSO",
        "colab_type": "text"
      },
      "cell_type": "markdown",
      "source": [
        "Let's define our model. The standard PyTorch way of doing so is to create a class inheriting from `torch.nn.Module`.\n",
        "\n",
        "In its `__init__` method, we create the layers we are going to need and store them as member variables.\n",
        "\n",
        "In its `forward` method we implement the forward pass computation, making use of the layers we created in the constructor."
      ]
    },
    {
      "metadata": {
        "id": "4CksjYYalcMD",
        "colab_type": "text"
      },
      "cell_type": "markdown",
      "source": [
        "### Tensor dimensions\n",
        "1. Input: \\[bs,28,28,1]\n",
        "* Convolutional layer 1 out: \\[bs,24,24,20]\n",
        "* Max-pooling layer 1 out: \\[bs,12,12,20]\n",
        "* Convolutional layer 2 out: \\[bs,8,8,50]\n",
        "* Max-pooling layer 2 out: \\[bs,4,4,50]\n",
        "* Fully-connected layer 1 in: \\[bs,4\\*4\\*50]\n",
        "* Fully-connected layer 1 out: \\[bs,500]\n",
        "* Fully-connected layer 2 out: \\[bs,10]\n",
        "* Softmax out: \\[bs,10]"
      ]
    },
    {
      "metadata": {
        "id": "s5DkDQTg2SdP",
        "colab_type": "code",
        "colab": {}
      },
      "cell_type": "code",
      "source": [
        "class Net(nn.Module):\n",
        "    def __init__(self):\n",
        "        super(Net, self).__init__()\n",
        "        self.conv1 = nn.Conv2d(1, 20, 5, 1)\n",
        "        self.conv2 = nn.Conv2d(20, 50, 5, 1)\n",
        "        self.fc1 = nn.Linear(4*4*50, 500)\n",
        "        self.fc2 = nn.Linear(500, 10)\n",
        "\n",
        "    def forward(self, x):\n",
        "        x = F.relu(self.conv1(x))\n",
        "        x = F.max_pool2d(x, 2, 2)\n",
        "        x = F.relu(self.conv2(x))\n",
        "        x = F.max_pool2d(x, 2, 2)\n",
        "        x = x.view(-1, 4*4*50)\n",
        "        x = F.relu(self.fc1(x))\n",
        "        x = self.fc2(x)\n",
        "        return F.log_softmax(x, dim=1)"
      ],
      "execution_count": 0,
      "outputs": []
    },
    {
      "metadata": {
        "id": "YLWyr0RpJ9Tj",
        "colab_type": "text"
      },
      "cell_type": "markdown",
      "source": [
        "Now let's create a function that trains over an epoch. Every N steps we will `print` the progress. As input to the training, we are going to assume we receive an iterator to the training batches.\n",
        "\n",
        "Note that, as we are facing a multiclass classification problem, we use the **negative log likelihood** (NLL) as loss function."
      ]
    },
    {
      "metadata": {
        "id": "8lVf4Ae52pde",
        "colab_type": "code",
        "colab": {}
      },
      "cell_type": "code",
      "source": [
        "def train(log_interval, model, device, train_loader, optimizer, epoch):\n",
        "    losses = []\n",
        "    model.train()\n",
        "    for batch_idx, (data, target) in enumerate(train_loader):\n",
        "        data, target = data.to(device), target.to(device)\n",
        "        optimizer.zero_grad()\n",
        "        output = model(data)\n",
        "        loss = F.nll_loss(output, target)\n",
        "        loss.backward()\n",
        "        optimizer.step()\n",
        "        losses.append(loss.item())\n",
        "        if batch_idx % log_interval == 0:\n",
        "            print('Train Epoch: {} [{}/{} ({:.0f}%)]\\tLoss: {:.6f}'.format(\n",
        "                epoch, batch_idx * len(data), len(train_loader.dataset),\n",
        "                100. * batch_idx / len(train_loader), loss.item()))\n",
        "    return losses"
      ],
      "execution_count": 0,
      "outputs": []
    },
    {
      "metadata": {
        "id": "fj-oQ2erKaXz",
        "colab_type": "text"
      },
      "cell_type": "markdown",
      "source": [
        "And now let's create a similar function but to evaluate the performance of the model over a validation data set:"
      ]
    },
    {
      "metadata": {
        "id": "LLnHRErC2wEv",
        "colab_type": "code",
        "colab": {}
      },
      "cell_type": "code",
      "source": [
        "def validate(model, device, loader):\n",
        "    \n",
        "    model.eval()  # let's put the model in evaluation mode\n",
        "\n",
        "    validation_loss = 0\n",
        "    correct = 0\n",
        "    \n",
        "    with torch.no_grad():  # we don't need gradient computation at all\n",
        "        for data, target in loader:\n",
        "            data, target = data.to(device), target.to(device)\n",
        "            output = model(data)\n",
        "            validation_loss += F.nll_loss(output, target, reduction='sum').item() # sum up batch loss\n",
        "            pred = output.argmax(dim=1, keepdim=True) # get the index of the max log-probability\n",
        "            correct += pred.eq(target.view_as(pred)).sum().item()\n",
        "\n",
        "    validation_loss /= len(loader.dataset)\n",
        "\n",
        "    print('\\nValidation set: Average loss: {:.4f}, Accuracy: {}/{} ({:.0f}%)\\n'.format(\n",
        "        validation_loss, correct, len(loader.dataset),\n",
        "        100. * correct / len(loader.dataset)))\n",
        "    \n",
        "    return validation_loss\n"
      ],
      "execution_count": 0,
      "outputs": []
    },
    {
      "metadata": {
        "id": "5XeDtTK_LR2B",
        "colab_type": "text"
      },
      "cell_type": "markdown",
      "source": [
        "Now, we will use the dataset from `torchvision` to load MNIST and the PyTorch loaders to get iterators to the batches, for both training and validation data.\n",
        "\n",
        "This function is able to preprocess the data with different functions that are described later."
      ]
    },
    {
      "metadata": {
        "id": "hwCm27mXoC9F",
        "colab_type": "code",
        "colab": {}
      },
      "cell_type": "code",
      "source": [
        "def train_w_preprocess(preprocesing_func):\n",
        "  train_loader = torch.utils.data.DataLoader(\n",
        "      datasets.MNIST('./data',\n",
        "                     train=True,\n",
        "                     download=True,\n",
        "                     transform=transforms.Compose([\n",
        "                         transforms.ToTensor(),\n",
        "                         transforms.Lambda(preprocesing_func)\n",
        "                     ])),\n",
        "      batch_size=train_batch_size,\n",
        "      shuffle=True)\n",
        "\n",
        "  valid_batch_size = 1000\n",
        "  valid_loader = torch.utils.data.DataLoader(\n",
        "      datasets.MNIST('./data',\n",
        "                     train=False,\n",
        "                     transform=transforms.Compose([\n",
        "                         transforms.ToTensor(),\n",
        "                         transforms.Lambda(preprocesing_func)\n",
        "                     ])),\n",
        "      batch_size=valid_batch_size,\n",
        "      shuffle=True)\n",
        "\n",
        "  device = torch.device(\"cuda:0\" if torch.cuda.is_available() else \"cpu\")\n",
        "  model = Net().to(device)\n",
        "  optimizer = optim.SGD(model.parameters(), lr=0.005, momentum=0.7)\n",
        "\n",
        "  train_losses = []\n",
        "  valid_losses = []\n",
        "  valid_x = []\n",
        "  num_epochs = 10\n",
        "  for epoch in range(1, num_epochs + 1):\n",
        "      epoch_losses = train(500, model, device, train_loader, optimizer, epoch)\n",
        "      train_losses.extend(epoch_losses)\n",
        "      valid_loss = validate(model, device, valid_loader)\n",
        "      valid_losses.append([valid_loss])\n",
        "      valid_x.append(len(train_losses) - 1)\n",
        "\n",
        "  plt.gcf().clear()\n",
        "  plt.plot(train_losses, 'b-')\n",
        "  plt.plot(valid_x, valid_losses, 'r-')\n",
        "  plt.ylim((0,5))\n",
        "  plt.show()\n",
        "  "
      ],
      "execution_count": 0,
      "outputs": []
    },
    {
      "metadata": {
        "colab_type": "text",
        "id": "lAuN4f7PEtHD"
      },
      "cell_type": "markdown",
      "source": [
        "# Preprocessing\n",
        "\n",
        "## Feature scaling\n",
        "\n",
        "One of the simpliest preprocessing process is feature scaling.\n",
        "\n",
        "Original data lies in \\[0,1] range.\n",
        "\n",
        "Scaling/normalizing the data helps gradient descent converge faster.   \n",
        " <img src=\"https://storage.googleapis.com/aibootcamp/Week%202/assets/feature_scaling.jpg\" alt=\"gradient descend comparison\" width=\"500\"/>\n",
        "        \n",
        "Typically this is done element-wise (scale each feature separetly), but in images we usually do the exact same transformation for each pixel."
      ]
    },
    {
      "metadata": {
        "id": "sMAo2Jm-tEpt",
        "colab_type": "text"
      },
      "cell_type": "markdown",
      "source": [
        "## Different feature scaling methods\n",
        "\n",
        "---\n",
        "\n",
        "### Max-min rescaling\n",
        "\n",
        "Escalar para que ocupe un rango deseado\n",
        "\n",
        "*  \\[-1,1]\n",
        "* \\[0,1]"
      ]
    },
    {
      "metadata": {
        "id": "7-2HmbUf0jOB",
        "colab_type": "code",
        "outputId": "ef9ce13f-e6f9-41ed-b54e-902a2f9354c7",
        "colab": {
          "base_uri": "https://localhost:8080/",
          "height": 1031
        }
      },
      "cell_type": "code",
      "source": [
        "# [-1,1] rescaling\n",
        "train_w_preprocess(lambda x : 2 * x - 1)"
      ],
      "execution_count": 0,
      "outputs": [
        {
          "output_type": "stream",
          "text": [
            "Train Epoch: 1 [0/60000 (0%)]\tLoss: 2.303351\n",
            "\n",
            "Validation set: Average loss: 0.2425, Accuracy: 9298/10000 (93%)\n",
            "\n",
            "Train Epoch: 2 [0/60000 (0%)]\tLoss: 0.444328\n",
            "\n",
            "Validation set: Average loss: 0.1385, Accuracy: 9599/10000 (96%)\n",
            "\n",
            "Train Epoch: 3 [0/60000 (0%)]\tLoss: 0.077173\n",
            "\n",
            "Validation set: Average loss: 0.1014, Accuracy: 9699/10000 (97%)\n",
            "\n",
            "Train Epoch: 4 [0/60000 (0%)]\tLoss: 0.110421\n",
            "\n",
            "Validation set: Average loss: 0.0768, Accuracy: 9778/10000 (98%)\n",
            "\n",
            "Train Epoch: 5 [0/60000 (0%)]\tLoss: 0.083244\n",
            "\n",
            "Validation set: Average loss: 0.0683, Accuracy: 9792/10000 (98%)\n",
            "\n",
            "Train Epoch: 6 [0/60000 (0%)]\tLoss: 0.087638\n",
            "\n",
            "Validation set: Average loss: 0.0572, Accuracy: 9835/10000 (98%)\n",
            "\n",
            "Train Epoch: 7 [0/60000 (0%)]\tLoss: 0.104534\n",
            "\n",
            "Validation set: Average loss: 0.0552, Accuracy: 9831/10000 (98%)\n",
            "\n",
            "Train Epoch: 8 [0/60000 (0%)]\tLoss: 0.076533\n",
            "\n",
            "Validation set: Average loss: 0.0536, Accuracy: 9836/10000 (98%)\n",
            "\n",
            "Train Epoch: 9 [0/60000 (0%)]\tLoss: 0.036431\n",
            "\n",
            "Validation set: Average loss: 0.0437, Accuracy: 9863/10000 (99%)\n",
            "\n",
            "Train Epoch: 10 [0/60000 (0%)]\tLoss: 0.061067\n",
            "\n",
            "Validation set: Average loss: 0.0437, Accuracy: 9864/10000 (99%)\n",
            "\n"
          ],
          "name": "stdout"
        },
        {
          "output_type": "display_data",
          "data": {
            "image/png": "[encoded data removed]",
            "text/plain": [
              "<Figure size 576x396 with 1 Axes>"
            ]
          },
          "metadata": {
            "tags": []
          }
        }
      ]
    },
    {
      "metadata": {
        "id": "p79OJ8Rq6r8s",
        "colab_type": "text"
      },
      "cell_type": "markdown",
      "source": [
        "## Estandarizar\n",
        "\n",
        "Resultado es un dataset de media 0 y varianza 1\n",
        "\n",
        "$ x' = \\frac{x-\\hat{x}}{\\sigma_x} $\n"
      ]
    },
    {
      "metadata": {
        "id": "wuY1K8GI5W5k",
        "colab_type": "code",
        "outputId": "264abb66-11ec-4f81-9904-25dc68ceef7d",
        "colab": {
          "base_uri": "https://localhost:8080/",
          "height": 1031
        }
      },
      "cell_type": "code",
      "source": [
        "# standarize\n",
        "mnist_mean = 0.1307\n",
        "mnist_stddev = 0.3081\n",
        "train_w_preprocess(lambda x : (x - mnist_mean) / mnist_stddev)"
      ],
      "execution_count": 0,
      "outputs": [
        {
          "output_type": "stream",
          "text": [
            "Train Epoch: 1 [0/60000 (0%)]\tLoss: 2.305637\n",
            "\n",
            "Validation set: Average loss: 0.1803, Accuracy: 9467/10000 (95%)\n",
            "\n",
            "Train Epoch: 2 [0/60000 (0%)]\tLoss: 0.134572\n",
            "\n",
            "Validation set: Average loss: 0.1038, Accuracy: 9709/10000 (97%)\n",
            "\n",
            "Train Epoch: 3 [0/60000 (0%)]\tLoss: 0.074033\n",
            "\n",
            "Validation set: Average loss: 0.0835, Accuracy: 9751/10000 (98%)\n",
            "\n",
            "Train Epoch: 4 [0/60000 (0%)]\tLoss: 0.113657\n",
            "\n",
            "Validation set: Average loss: 0.0646, Accuracy: 9806/10000 (98%)\n",
            "\n",
            "Train Epoch: 5 [0/60000 (0%)]\tLoss: 0.018116\n",
            "\n",
            "Validation set: Average loss: 0.0556, Accuracy: 9838/10000 (98%)\n",
            "\n",
            "Train Epoch: 6 [0/60000 (0%)]\tLoss: 0.048794\n",
            "\n",
            "Validation set: Average loss: 0.0490, Accuracy: 9844/10000 (98%)\n",
            "\n",
            "Train Epoch: 7 [0/60000 (0%)]\tLoss: 0.079669\n",
            "\n",
            "Validation set: Average loss: 0.0444, Accuracy: 9856/10000 (99%)\n",
            "\n",
            "Train Epoch: 8 [0/60000 (0%)]\tLoss: 0.049086\n",
            "\n",
            "Validation set: Average loss: 0.0426, Accuracy: 9849/10000 (98%)\n",
            "\n",
            "Train Epoch: 9 [0/60000 (0%)]\tLoss: 0.085221\n",
            "\n",
            "Validation set: Average loss: 0.0412, Accuracy: 9866/10000 (99%)\n",
            "\n",
            "Train Epoch: 10 [0/60000 (0%)]\tLoss: 0.054174\n",
            "\n",
            "Validation set: Average loss: 0.0371, Accuracy: 9887/10000 (99%)\n",
            "\n"
          ],
          "name": "stdout"
        },
        {
          "output_type": "display_data",
          "data": {
            "image/png": "[encoded data removed]",
            "text/plain": [
              "<Figure size 576x396 with 1 Axes>"
            ]
          },
          "metadata": {
            "tags": []
          }
        }
      ]
    },
    {
      "metadata": {
        "id": "drxBPBgV7mJh",
        "colab_type": "code",
        "outputId": "7c78985a-8a4e-4dbd-95ca-e6965c58bbf0",
        "colab": {
          "base_uri": "https://localhost:8080/",
          "height": 1031
        }
      },
      "cell_type": "code",
      "source": [
        "# no scaling (in this case it is [0,1] scaling)\n",
        "train_w_preprocess(lambda x : x)"
      ],
      "execution_count": 0,
      "outputs": [
        {
          "output_type": "stream",
          "text": [
            "Train Epoch: 1 [0/60000 (0%)]\tLoss: 2.301748\n",
            "\n",
            "Validation set: Average loss: 0.3493, Accuracy: 8978/10000 (90%)\n",
            "\n",
            "Train Epoch: 2 [0/60000 (0%)]\tLoss: 0.340213\n",
            "\n",
            "Validation set: Average loss: 0.1965, Accuracy: 9438/10000 (94%)\n",
            "\n",
            "Train Epoch: 3 [0/60000 (0%)]\tLoss: 0.152086\n",
            "\n",
            "Validation set: Average loss: 0.1429, Accuracy: 9593/10000 (96%)\n",
            "\n",
            "Train Epoch: 4 [0/60000 (0%)]\tLoss: 0.117761\n",
            "\n",
            "Validation set: Average loss: 0.1073, Accuracy: 9699/10000 (97%)\n",
            "\n",
            "Train Epoch: 5 [0/60000 (0%)]\tLoss: 0.077801\n",
            "\n",
            "Validation set: Average loss: 0.0922, Accuracy: 9730/10000 (97%)\n",
            "\n",
            "Train Epoch: 6 [0/60000 (0%)]\tLoss: 0.142788\n",
            "\n",
            "Validation set: Average loss: 0.0756, Accuracy: 9770/10000 (98%)\n",
            "\n",
            "Train Epoch: 7 [0/60000 (0%)]\tLoss: 0.034759\n",
            "\n",
            "Validation set: Average loss: 0.0657, Accuracy: 9810/10000 (98%)\n",
            "\n",
            "Train Epoch: 8 [0/60000 (0%)]\tLoss: 0.014341\n",
            "\n",
            "Validation set: Average loss: 0.0637, Accuracy: 9799/10000 (98%)\n",
            "\n",
            "Train Epoch: 9 [0/60000 (0%)]\tLoss: 0.095683\n",
            "\n",
            "Validation set: Average loss: 0.0578, Accuracy: 9826/10000 (98%)\n",
            "\n",
            "Train Epoch: 10 [0/60000 (0%)]\tLoss: 0.086038\n",
            "\n",
            "Validation set: Average loss: 0.0516, Accuracy: 9839/10000 (98%)\n",
            "\n"
          ],
          "name": "stdout"
        },
        {
          "output_type": "display_data",
          "data": {
            "image/png": "[encoded data removed]",
            "text/plain": [
              "<Figure size 576x396 with 1 Axes>"
            ]
          },
          "metadata": {
            "tags": []
          }
        }
      ]
    },
    {
      "metadata": {
        "id": "UEW1WSRRFF8O",
        "colab_type": "text"
      },
      "cell_type": "markdown",
      "source": [
        "## Results\n",
        "\n",
        "|    method   | accuracy | epochs until acc. > 98% | \n",
        "|------------------|-----------------|------------------------------|\n",
        "| standarize |   98.87%  |                4               | \n",
        "|      [-1,1]      |   98.64%  |                6               | \n",
        "|      [0,1]       |   98.39%  |                7               | "
      ]
    },
    {
      "metadata": {
        "id": "_AnGG_GRGFtI",
        "colab_type": "code",
        "colab": {}
      },
      "cell_type": "code",
      "source": [
        ""
      ],
      "execution_count": 0,
      "outputs": []
    }
  ]
}
