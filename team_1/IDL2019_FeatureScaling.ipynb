{
  "nbformat": 4,
  "nbformat_minor": 0,
  "metadata": {
    "colab": {
      "name": "prova.ipynb",
      "version": "0.3.2",
      "provenance": [],
      "collapsed_sections": []
    },
    "kernelspec": {
      "name": "python3",
      "display_name": "Python 3"
    },
    "accelerator": "GPU"
  },
  "cells": [
    {
      "metadata": {
        "id": "YTe1C5XDclhf",
        "colab_type": "text"
      },
      "cell_type": "markdown",
      "source": [
        "This notebook illustrates the use of convolutional networks for a multiclass classification over the MNIST dataset. This notebook is based on the PyTorch MNIST example: https://github.com/pytorch/examples/tree/master/mnist\n",
        "\n",
        "The MNIST dataset contains handwritten digits like these:\n",
        "\n",
        " ![MNIST samples](https://upload.wikimedia.org/wikipedia/commons/2/27/MnistExamples.png)\n",
        "\n",
        "Each digit is 28x28 pixels and is labeled with the digit it contains, e.g. this is labeled with a \"0\":\n",
        "\n",
        "<img src=\"http://neuralnetworksanddeeplearning.com/images/mnist_complete_zero.png\" width=\"200\">\n"
      ]
    },
    {
      "metadata": {
        "id": "ypFnkACT2Iam",
        "colab_type": "code",
        "outputId": "7a7da794-0187-40ca-f21f-d013d2ae5e13",
        "colab": {
          "base_uri": "https://localhost:8080/",
          "height": 521
        }
      },
      "cell_type": "code",
      "source": [
        "!pip install pillow==5.4.1\n",
        "!pip install matplotlib\n",
        "!pip install scikit-learn\n",
        "!pip install torch\n",
        "!pip install torchvision\n",
        "!pip install numpy"
      ],
      "execution_count": 0,
      "outputs": [
        {
          "output_type": "stream",
          "text": [
            "Collecting pillow==5.4.1\n",
            "\u001b[?25l  Downloading https://files.pythonhosted.org/packages/85/5e/e91792f198bbc5a0d7d3055ad552bc4062942d27eaf75c3e2783cf64eae5/Pillow-5.4.1-cp36-cp36m-manylinux1_x86_64.whl (2.0MB)\n",
            "\u001b[K    100% |████████████████████████████████| 2.0MB 13.8MB/s \n",
            "\u001b[?25hInstalling collected packages: pillow\n",
            "  Found existing installation: Pillow 4.0.0\n",
            "    Uninstalling Pillow-4.0.0:\n",
            "      Successfully uninstalled Pillow-4.0.0\n",
            "Successfully installed pillow-5.4.1\n",
            "\u001b[0;31;1mWARNING: The following packages were previously imported in this runtime:\n",
            "  [PIL]\n",
            "You must restart the runtime in order to use newly installed versions.\u001b[0m\n",
            "Requirement already satisfied: matplotlib in /usr/local/lib/python3.6/dist-packages (3.0.2)\n",
            "Requirement already satisfied: numpy>=1.10.0 in /usr/local/lib/python3.6/dist-packages (from matplotlib) (1.14.6)\n",
            "Requirement already satisfied: kiwisolver>=1.0.1 in /usr/local/lib/python3.6/dist-packages (from matplotlib) (1.0.1)\n",
            "Requirement already satisfied: cycler>=0.10 in /usr/local/lib/python3.6/dist-packages (from matplotlib) (0.10.0)\n",
            "Requirement already satisfied: python-dateutil>=2.1 in /usr/local/lib/python3.6/dist-packages (from matplotlib) (2.5.3)\n",
            "Requirement already satisfied: pyparsing!=2.0.4,!=2.1.2,!=2.1.6,>=2.0.1 in /usr/local/lib/python3.6/dist-packages (from matplotlib) (2.3.1)\n",
            "Requirement already satisfied: setuptools in /usr/local/lib/python3.6/dist-packages (from kiwisolver>=1.0.1->matplotlib) (40.6.3)\n",
            "Requirement already satisfied: six in /usr/local/lib/python3.6/dist-packages (from cycler>=0.10->matplotlib) (1.11.0)\n",
            "Requirement already satisfied: scikit-learn in /usr/local/lib/python3.6/dist-packages (0.20.2)\n",
            "Requirement already satisfied: scipy>=0.13.3 in /usr/local/lib/python3.6/dist-packages (from scikit-learn) (1.1.0)\n",
            "Requirement already satisfied: numpy>=1.8.2 in /usr/local/lib/python3.6/dist-packages (from scikit-learn) (1.14.6)\n",
            "Requirement already satisfied: torch in /usr/local/lib/python3.6/dist-packages (1.0.0)\n",
            "Requirement already satisfied: torchvision in /usr/local/lib/python3.6/dist-packages (0.2.1)\n",
            "Requirement already satisfied: numpy in /usr/local/lib/python3.6/dist-packages (from torchvision) (1.14.6)\n",
            "Requirement already satisfied: pillow>=4.1.1 in /usr/local/lib/python3.6/dist-packages (from torchvision) (5.4.1)\n",
            "Requirement already satisfied: torch in /usr/local/lib/python3.6/dist-packages (from torchvision) (1.0.0)\n",
            "Requirement already satisfied: six in /usr/local/lib/python3.6/dist-packages (from torchvision) (1.11.0)\n",
            "Requirement already satisfied: numpy in /usr/local/lib/python3.6/dist-packages (1.14.6)\n"
          ],
          "name": "stdout"
        }
      ]
    },
    {
      "metadata": {
        "id": "kMd_kEOr2NvZ",
        "colab_type": "code",
        "colab": {}
      },
      "cell_type": "code",
      "source": [
        "import matplotlib.pyplot as plt\n",
        "import torch\n",
        "import torch.nn as nn\n",
        "import torch.nn.functional as F\n",
        "import torch.optim as optim\n",
        "from torchvision import datasets, transforms\n",
        "import numpy as np"
      ],
      "execution_count": 0,
      "outputs": []
    },
    {
      "metadata": {
        "id": "nzndZca2JgSO",
        "colab_type": "text"
      },
      "cell_type": "markdown",
      "source": [
        "Let's define our model. The standard PyTorch way of doing so is to create a class inheriting from `torch.nn.Module`.\n",
        "\n",
        "In its `__init__` method, we create the layers we are going to need and store them as member variables.\n",
        "\n",
        "In its `forward` method we implement the forward pass computation, making use of the layers we created in the constructor."
      ]
    },
    {
      "metadata": {
        "id": "4CksjYYalcMD",
        "colab_type": "text"
      },
      "cell_type": "markdown",
      "source": [
        "### Tensor dimensions\n",
        "1. Input: \\[bs,28,28,1]\n",
        "* Convolutional layer 1 out: \\[bs,24,24,20]\n",
        "* Max-pooling layer 1 out: \\[bs,12,12,20]\n",
        "* Convolutional layer 2 out: \\[bs,8,8,50]\n",
        "* Max-pooling layer 2 out: \\[bs,4,4,50]\n",
        "* Fully-connected layer 1 in: \\[bs,4\\*4\\*50]\n",
        "* Fully-connected layer 1 out: \\[bs,500]\n",
        "* Fully-connected layer 2 out: \\[bs,10]\n",
        "* Softmax out: \\[bs,10]"
      ]
    },
    {
      "metadata": {
        "id": "s5DkDQTg2SdP",
        "colab_type": "code",
        "colab": {}
      },
      "cell_type": "code",
      "source": [
        "class Net(nn.Module):\n",
        "    def __init__(self):\n",
        "        super(Net, self).__init__()\n",
        "        self.conv1 = nn.Conv2d(1, 20, 5, 1)\n",
        "        self.conv2 = nn.Conv2d(20, 50, 5, 1)\n",
        "        self.fc1 = nn.Linear(4*4*50, 500)\n",
        "        self.fc2 = nn.Linear(500, 10)\n",
        "\n",
        "    def forward(self, x):\n",
        "        x = F.relu(self.conv1(x))\n",
        "        x = F.max_pool2d(x, 2, 2)\n",
        "        x = F.relu(self.conv2(x))\n",
        "        x = F.max_pool2d(x, 2, 2)\n",
        "        x = x.view(-1, 4*4*50)\n",
        "        x = F.relu(self.fc1(x))\n",
        "        x = self.fc2(x)\n",
        "        return F.log_softmax(x, dim=1)"
      ],
      "execution_count": 0,
      "outputs": []
    },
    {
      "metadata": {
        "id": "YLWyr0RpJ9Tj",
        "colab_type": "text"
      },
      "cell_type": "markdown",
      "source": [
        "Now let's create a function that trains over an epoch. Every N steps we will `print` the progress. As input to the training, we are going to assume we receive an iterator to the training batches.\n",
        "\n",
        "Note that, as we are facing a multiclass classification problem, we use the **negative log likelihood** (NLL) as loss function."
      ]
    },
    {
      "metadata": {
        "id": "8lVf4Ae52pde",
        "colab_type": "code",
        "colab": {}
      },
      "cell_type": "code",
      "source": [
        "def train(log_interval, model, device, train_loader, optimizer, epoch):\n",
        "    losses = []\n",
        "    model.train()\n",
        "    for batch_idx, (data, target) in enumerate(train_loader):\n",
        "        data, target = data.to(device), target.to(device)\n",
        "        optimizer.zero_grad()\n",
        "        output = model(data)\n",
        "        loss = F.nll_loss(output, target)\n",
        "        loss.backward()\n",
        "        optimizer.step()\n",
        "        losses.append(loss.item())\n",
        "        if batch_idx % log_interval == 0:\n",
        "            print('Train Epoch: {} [{}/{} ({:.0f}%)]\\tLoss: {:.6f}'.format(\n",
        "                epoch, batch_idx * len(data), len(train_loader.dataset),\n",
        "                100. * batch_idx / len(train_loader), loss.item()))\n",
        "    return losses"
      ],
      "execution_count": 0,
      "outputs": []
    },
    {
      "metadata": {
        "id": "fj-oQ2erKaXz",
        "colab_type": "text"
      },
      "cell_type": "markdown",
      "source": [
        "And now let's create a similar function but to evaluate the performance of the model over a validation data set:"
      ]
    },
    {
      "metadata": {
        "id": "LLnHRErC2wEv",
        "colab_type": "code",
        "colab": {}
      },
      "cell_type": "code",
      "source": [
        "def validate(model, device, loader):\n",
        "    \n",
        "    model.eval()  # let's put the model in evaluation mode\n",
        "\n",
        "    validation_loss = 0\n",
        "    correct = 0\n",
        "    \n",
        "    with torch.no_grad():  # we don't need gradient computation at all\n",
        "        for data, target in loader:\n",
        "            data, target = data.to(device), target.to(device)\n",
        "            output = model(data)\n",
        "            validation_loss += F.nll_loss(output, target, reduction='sum').item() # sum up batch loss\n",
        "            pred = output.argmax(dim=1, keepdim=True) # get the index of the max log-probability\n",
        "            correct += pred.eq(target.view_as(pred)).sum().item()\n",
        "\n",
        "    validation_loss /= len(loader.dataset)\n",
        "\n",
        "    print('\\nValidation set: Average loss: {:.4f}, Accuracy: {}/{} ({:.0f}%)\\n'.format(\n",
        "        validation_loss, correct, len(loader.dataset),\n",
        "        100. * correct / len(loader.dataset)))\n",
        "    \n",
        "    return validation_loss\n"
      ],
      "execution_count": 0,
      "outputs": []
    },
    {
      "metadata": {
        "id": "5XeDtTK_LR2B",
        "colab_type": "text"
      },
      "cell_type": "markdown",
      "source": [
        "Now, we will use the dataset from `torchvision` to load MNIST and the PyTorch loaders to get iterators to the batches, for both training and validation data.\n",
        "\n",
        "This function is able to preprocess the data with different functions that are described later."
      ]
    },
    {
      "metadata": {
        "id": "hwCm27mXoC9F",
        "colab_type": "code",
        "colab": {}
      },
      "cell_type": "code",
      "source": [
        "def train_w_preprocess(preprocesing_func):\n",
        "  train_batch_size = 128\n",
        "  train_loader = torch.utils.data.DataLoader(\n",
        "      datasets.MNIST('./data',\n",
        "                     train=True,\n",
        "                     download=True,\n",
        "                     transform=transforms.Compose([\n",
        "                         transforms.ToTensor(),\n",
        "                         transforms.Lambda(preprocesing_func)\n",
        "                     ])),\n",
        "      batch_size=train_batch_size,\n",
        "      shuffle=True)\n",
        "\n",
        "  valid_batch_size = 1000\n",
        "  valid_loader = torch.utils.data.DataLoader(\n",
        "      datasets.MNIST('./data',\n",
        "                     train=False,\n",
        "                     transform=transforms.Compose([\n",
        "                         transforms.ToTensor(),\n",
        "                         transforms.Lambda(preprocesing_func)\n",
        "                     ])),\n",
        "      batch_size=valid_batch_size,\n",
        "      shuffle=True)\n",
        "\n",
        "  device = torch.device(\"cuda:0\" if torch.cuda.is_available() else \"cpu\")\n",
        "  model = Net().to(device)\n",
        "  optimizer = optim.SGD(model.parameters(), lr=0.005, momentum=0.7)\n",
        "\n",
        "  train_losses = []\n",
        "  valid_losses = []\n",
        "  valid_x = []\n",
        "  num_epochs = 10\n",
        "  for epoch in range(1, num_epochs + 1):\n",
        "      epoch_losses = train(500, model, device, train_loader, optimizer, epoch)\n",
        "      train_losses.extend(epoch_losses)\n",
        "      valid_loss = validate(model, device, valid_loader)\n",
        "      valid_losses.append([valid_loss])\n",
        "      valid_x.append(len(train_losses) - 1)\n",
        "\n",
        "  plt.gcf().clear()\n",
        "  plt.plot(train_losses, 'b-')\n",
        "  plt.plot(valid_x, valid_losses, 'r-')\n",
        "  plt.ylim((0,5))\n",
        "  plt.show()\n",
        "  "
      ],
      "execution_count": 0,
      "outputs": []
    },
    {
      "metadata": {
        "colab_type": "text",
        "id": "lAuN4f7PEtHD"
      },
      "cell_type": "markdown",
      "source": [
        "#Training with different preprocessing methods\n",
        "\n",
        "Scaling/normalizing the data helps gradient descent converge faster.\n",
        "\n",
        "\n",
        " <img src=\"https://storage.googleapis.com/aibootcamp/Week%202/assets/feature_scaling.jpg\" alt=\"gradient descend comparison\" width=\"500\"/>\n",
        " \n",
        " \\\n",
        " \n",
        "Typically this is done element-wise (scale each feature separetly), but in images we usually do the exact same transformation for each pixel.\n"
      ]
    },
    {
      "metadata": {
        "id": "d1n8uJURxfPF",
        "colab_type": "text"
      },
      "cell_type": "markdown",
      "source": [
        "## Without preprocessing\n",
        "\n",
        "Actually, imported dataset is already scaled, so it is readapted to [0,255]."
      ]
    },
    {
      "metadata": {
        "id": "8i4PwCeNhOSP",
        "colab_type": "code",
        "outputId": "cd5588d4-5544-49d4-b15c-b3c37c890775",
        "colab": {
          "base_uri": "https://localhost:8080/",
          "height": 1150
        }
      },
      "cell_type": "code",
      "source": [
        "# Original data\n",
        "train_w_preprocess(lambda x : np.floor(255 * x) )"
      ],
      "execution_count": 0,
      "outputs": [
        {
          "output_type": "stream",
          "text": [
            "Downloading http://yann.lecun.com/exdb/mnist/train-images-idx3-ubyte.gz\n",
            "Downloading http://yann.lecun.com/exdb/mnist/train-labels-idx1-ubyte.gz\n",
            "Downloading http://yann.lecun.com/exdb/mnist/t10k-images-idx3-ubyte.gz\n",
            "Downloading http://yann.lecun.com/exdb/mnist/t10k-labels-idx1-ubyte.gz\n",
            "Processing...\n",
            "Done!\n",
            "Train Epoch: 1 [0/60000 (0%)]\tLoss: 15.726904\n",
            "\n",
            "Validation set: Average loss: 0.1193, Accuracy: 9629/10000 (96%)\n",
            "\n",
            "Train Epoch: 2 [0/60000 (0%)]\tLoss: 0.105274\n",
            "\n",
            "Validation set: Average loss: 0.0853, Accuracy: 9716/10000 (97%)\n",
            "\n",
            "Train Epoch: 3 [0/60000 (0%)]\tLoss: 0.079298\n",
            "\n",
            "Validation set: Average loss: 0.0679, Accuracy: 9771/10000 (98%)\n",
            "\n",
            "Train Epoch: 4 [0/60000 (0%)]\tLoss: 0.056431\n",
            "\n",
            "Validation set: Average loss: 0.0556, Accuracy: 9814/10000 (98%)\n",
            "\n",
            "Train Epoch: 5 [0/60000 (0%)]\tLoss: 0.022163\n",
            "\n",
            "Validation set: Average loss: 0.0519, Accuracy: 9823/10000 (98%)\n",
            "\n",
            "Train Epoch: 6 [0/60000 (0%)]\tLoss: 0.018026\n",
            "\n",
            "Validation set: Average loss: 0.0680, Accuracy: 9778/10000 (98%)\n",
            "\n",
            "Train Epoch: 7 [0/60000 (0%)]\tLoss: 0.038434\n",
            "\n",
            "Validation set: Average loss: 0.0518, Accuracy: 9829/10000 (98%)\n",
            "\n",
            "Train Epoch: 8 [0/60000 (0%)]\tLoss: 0.030535\n",
            "\n",
            "Validation set: Average loss: 0.0494, Accuracy: 9849/10000 (98%)\n",
            "\n",
            "Train Epoch: 9 [0/60000 (0%)]\tLoss: 0.037070\n",
            "\n",
            "Validation set: Average loss: 0.0501, Accuracy: 9841/10000 (98%)\n",
            "\n",
            "Train Epoch: 10 [0/60000 (0%)]\tLoss: 0.027844\n",
            "\n",
            "Validation set: Average loss: 0.0498, Accuracy: 9841/10000 (98%)\n",
            "\n"
          ],
          "name": "stdout"
        },
        {
          "output_type": "display_data",
          "data": {
            "image/png": "[encoded data removed]",
            "text/plain": [
              "<Figure size 576x396 with 1 Axes>"
            ]
          },
          "metadata": {
            "tags": []
          }
        }
      ]
    },
    {
      "metadata": {
        "id": "yKbMyc9oxW6Z",
        "colab_type": "text"
      },
      "cell_type": "markdown",
      "source": [
        "## Min-max scaling\n",
        "\n",
        "One of the simpliest preprocessing process is feature scaling:\n",
        "* It consists in scaling data to be in a selected range.\n",
        "* Very useful when combining inputs in different ranges (not this case)\n",
        "\n",
        "\\\n",
        "\n",
        "$ X_{norm} = \\frac{X - X_{min}}{X_{max}-X_{min}} $\n",
        "\n",
        "\\\n",
        "\n",
        "Two scalings have been performed:\n",
        "\n",
        "*  [0,1]\n",
        "*  [-1,1]\n",
        "\n",
        "\\\n",
        "\n",
        "Note: Imported dataset is already scaled at [0,1]."
      ]
    },
    {
      "metadata": {
        "id": "drxBPBgV7mJh",
        "colab_type": "code",
        "outputId": "eeec1907-55e5-464b-9e75-f4c29d828bbd",
        "colab": {
          "base_uri": "https://localhost:8080/",
          "height": 1046
        }
      },
      "cell_type": "code",
      "source": [
        "# Min-max scaling at [0,1]\n",
        "train_w_preprocess(lambda x : x)"
      ],
      "execution_count": 0,
      "outputs": [
        {
          "output_type": "stream",
          "text": [
            "Train Epoch: 1 [0/60000 (0%)]\tLoss: 2.299006\n",
            "\n",
            "Validation set: Average loss: 0.3480, Accuracy: 8931/10000 (89%)\n",
            "\n",
            "Train Epoch: 2 [0/60000 (0%)]\tLoss: 0.327817\n",
            "\n",
            "Validation set: Average loss: 0.1951, Accuracy: 9417/10000 (94%)\n",
            "\n",
            "Train Epoch: 3 [0/60000 (0%)]\tLoss: 0.262211\n",
            "\n",
            "Validation set: Average loss: 0.1356, Accuracy: 9602/10000 (96%)\n",
            "\n",
            "Train Epoch: 4 [0/60000 (0%)]\tLoss: 0.282476\n",
            "\n",
            "Validation set: Average loss: 0.1102, Accuracy: 9668/10000 (97%)\n",
            "\n",
            "Train Epoch: 5 [0/60000 (0%)]\tLoss: 0.198323\n",
            "\n",
            "Validation set: Average loss: 0.0867, Accuracy: 9737/10000 (97%)\n",
            "\n",
            "Train Epoch: 6 [0/60000 (0%)]\tLoss: 0.123399\n",
            "\n",
            "Validation set: Average loss: 0.0756, Accuracy: 9778/10000 (98%)\n",
            "\n",
            "Train Epoch: 7 [0/60000 (0%)]\tLoss: 0.073212\n",
            "\n",
            "Validation set: Average loss: 0.0711, Accuracy: 9788/10000 (98%)\n",
            "\n",
            "Train Epoch: 8 [0/60000 (0%)]\tLoss: 0.070336\n",
            "\n",
            "Validation set: Average loss: 0.0668, Accuracy: 9793/10000 (98%)\n",
            "\n",
            "Train Epoch: 9 [0/60000 (0%)]\tLoss: 0.045189\n",
            "\n",
            "Validation set: Average loss: 0.0587, Accuracy: 9806/10000 (98%)\n",
            "\n",
            "Train Epoch: 10 [0/60000 (0%)]\tLoss: 0.071336\n",
            "\n",
            "Validation set: Average loss: 0.0544, Accuracy: 9829/10000 (98%)\n",
            "\n"
          ],
          "name": "stdout"
        },
        {
          "output_type": "display_data",
          "data": {
            "image/png": "[encoded data removed]",
            "text/plain": [
              "<Figure size 576x396 with 1 Axes>"
            ]
          },
          "metadata": {
            "tags": []
          }
        }
      ]
    },
    {
      "metadata": {
        "id": "7-2HmbUf0jOB",
        "colab_type": "code",
        "outputId": "e1bd8ded-5fe6-4af1-a0a7-1cc849655cfe",
        "colab": {
          "base_uri": "https://localhost:8080/",
          "height": 1046
        }
      },
      "cell_type": "code",
      "source": [
        "# Min-max scaling at [-1,1]\n",
        "train_w_preprocess(lambda x : 2 * x - 1)"
      ],
      "execution_count": 0,
      "outputs": [
        {
          "output_type": "stream",
          "text": [
            "Train Epoch: 1 [0/60000 (0%)]\tLoss: 2.293870\n",
            "\n",
            "Validation set: Average loss: 0.2047, Accuracy: 9392/10000 (94%)\n",
            "\n",
            "Train Epoch: 2 [0/60000 (0%)]\tLoss: 0.263765\n",
            "\n",
            "Validation set: Average loss: 0.1189, Accuracy: 9638/10000 (96%)\n",
            "\n",
            "Train Epoch: 3 [0/60000 (0%)]\tLoss: 0.152739\n",
            "\n",
            "Validation set: Average loss: 0.0875, Accuracy: 9742/10000 (97%)\n",
            "\n",
            "Train Epoch: 4 [0/60000 (0%)]\tLoss: 0.065182\n",
            "\n",
            "Validation set: Average loss: 0.0708, Accuracy: 9785/10000 (98%)\n",
            "\n",
            "Train Epoch: 5 [0/60000 (0%)]\tLoss: 0.120997\n",
            "\n",
            "Validation set: Average loss: 0.0596, Accuracy: 9823/10000 (98%)\n",
            "\n",
            "Train Epoch: 6 [0/60000 (0%)]\tLoss: 0.092685\n",
            "\n",
            "Validation set: Average loss: 0.0644, Accuracy: 9792/10000 (98%)\n",
            "\n",
            "Train Epoch: 7 [0/60000 (0%)]\tLoss: 0.072868\n",
            "\n",
            "Validation set: Average loss: 0.0478, Accuracy: 9846/10000 (98%)\n",
            "\n",
            "Train Epoch: 8 [0/60000 (0%)]\tLoss: 0.036927\n",
            "\n",
            "Validation set: Average loss: 0.0465, Accuracy: 9860/10000 (99%)\n",
            "\n",
            "Train Epoch: 9 [0/60000 (0%)]\tLoss: 0.007956\n",
            "\n",
            "Validation set: Average loss: 0.0422, Accuracy: 9863/10000 (99%)\n",
            "\n",
            "Train Epoch: 10 [0/60000 (0%)]\tLoss: 0.043404\n",
            "\n",
            "Validation set: Average loss: 0.0473, Accuracy: 9841/10000 (98%)\n",
            "\n"
          ],
          "name": "stdout"
        },
        {
          "output_type": "display_data",
          "data": {
            "image/png": "[encoded data removed]",
            "text/plain": [
              "<Figure size 576x396 with 1 Axes>"
            ]
          },
          "metadata": {
            "tags": []
          }
        }
      ]
    },
    {
      "metadata": {
        "id": "p79OJ8Rq6r8s",
        "colab_type": "text"
      },
      "cell_type": "markdown",
      "source": [
        "## Standarization\n",
        "\n",
        "After preprocessing, the dataset has mean 0 and standard deviation 1.\n",
        "\n",
        "$ x' = \\frac{x-\\hat{x}}{\\sigma_x} $\n"
      ]
    },
    {
      "metadata": {
        "id": "wuY1K8GI5W5k",
        "colab_type": "code",
        "outputId": "2d2aa15c-107f-4d9c-cfe2-db583e6488c1",
        "colab": {
          "base_uri": "https://localhost:8080/",
          "height": 1046
        }
      },
      "cell_type": "code",
      "source": [
        "# standarize\n",
        "mnist_mean = 0.1307\n",
        "mnist_stddev = 0.3081\n",
        "train_w_preprocess(lambda x : (x - mnist_mean) / mnist_stddev)"
      ],
      "execution_count": 0,
      "outputs": [
        {
          "output_type": "stream",
          "text": [
            "Train Epoch: 1 [0/60000 (0%)]\tLoss: 2.307025\n",
            "\n",
            "Validation set: Average loss: 0.1654, Accuracy: 9545/10000 (95%)\n",
            "\n",
            "Train Epoch: 2 [0/60000 (0%)]\tLoss: 0.131684\n",
            "\n",
            "Validation set: Average loss: 0.1001, Accuracy: 9702/10000 (97%)\n",
            "\n",
            "Train Epoch: 3 [0/60000 (0%)]\tLoss: 0.151984\n",
            "\n",
            "Validation set: Average loss: 0.0721, Accuracy: 9792/10000 (98%)\n",
            "\n",
            "Train Epoch: 4 [0/60000 (0%)]\tLoss: 0.063375\n",
            "\n",
            "Validation set: Average loss: 0.0613, Accuracy: 9814/10000 (98%)\n",
            "\n",
            "Train Epoch: 5 [0/60000 (0%)]\tLoss: 0.085295\n",
            "\n",
            "Validation set: Average loss: 0.0533, Accuracy: 9835/10000 (98%)\n",
            "\n",
            "Train Epoch: 6 [0/60000 (0%)]\tLoss: 0.053539\n",
            "\n",
            "Validation set: Average loss: 0.0447, Accuracy: 9864/10000 (99%)\n",
            "\n",
            "Train Epoch: 7 [0/60000 (0%)]\tLoss: 0.007766\n",
            "\n",
            "Validation set: Average loss: 0.0433, Accuracy: 9858/10000 (99%)\n",
            "\n",
            "Train Epoch: 8 [0/60000 (0%)]\tLoss: 0.043455\n",
            "\n",
            "Validation set: Average loss: 0.0399, Accuracy: 9873/10000 (99%)\n",
            "\n",
            "Train Epoch: 9 [0/60000 (0%)]\tLoss: 0.079406\n",
            "\n",
            "Validation set: Average loss: 0.0406, Accuracy: 9868/10000 (99%)\n",
            "\n",
            "Train Epoch: 10 [0/60000 (0%)]\tLoss: 0.032042\n",
            "\n",
            "Validation set: Average loss: 0.0425, Accuracy: 9863/10000 (99%)\n",
            "\n"
          ],
          "name": "stdout"
        },
        {
          "output_type": "display_data",
          "data": {
            "image/png": "[encoded data removed]",
            "text/plain": [
              "<Figure size 576x396 with 1 Axes>"
            ]
          },
          "metadata": {
            "tags": []
          }
        }
      ]
    },
    {
      "metadata": {
        "id": "UEW1WSRRFF8O",
        "colab_type": "text"
      },
      "cell_type": "markdown",
      "source": [
        "## Results\n",
        "\n",
        "These are the results obtained are the following:\n",
        "\n",
        "|Pre-processing method|<center>Accuracy</center>|<center>Epochs until 98%</center>| \n",
        "|------------------------------------|------------------------------------------|-------------------------------------------------------|\n",
        "|Without pre-processing|<center>98.41%</center>    |<center>3</center>                                 |\n",
        "|Scaling [0,1]                       |<center>98.29%</center>   |<center>6</center>                                 | \n",
        "|Scaling [-1,1]                      |<center>98.41%</center>   |<center>4</center>                                 | \n",
        "|Standarization                  |<center>98.63%</center>   | <center>3</center>                                |\n",
        "\n",
        "\\\n",
        "\n",
        "* Accurancy results are very similar, the maximum difference is 0.34%\n",
        "* The fastest trainings are without pre-processing and with standarization"
      ]
    },
    {
      "metadata": {
        "id": "51pDvUmQd8mK",
        "colab_type": "text"
      },
      "cell_type": "markdown",
      "source": [
        "##Conclusions\n",
        "\n",
        "Surprisingly, pre-processing does not improve very much the results and, in some cases, results get worse. Some possible explanations to this fact are exposed below:\n",
        "\n",
        "* Min-max scaling is very useful when combining input data, in different ranges. In this case, the whole data is in range [0, 255], so no scaling is really required and, as can be seen, results are lightly worse, specially the speed.\n",
        "* Standarization is needed when input data contain outliers, which can cause min-max scaling not being the best option. This is not this case, but even so this is the best option at all.\n"
      ]
    }
  ]
}