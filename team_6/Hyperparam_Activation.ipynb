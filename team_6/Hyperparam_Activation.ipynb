{
  "nbformat": 4,
  "nbformat_minor": 0,
  "metadata": {
    "colab": {
      "name": "Hyperparam_Activation.ipynb",
      "version": "0.3.2",
      "provenance": [],
      "collapsed_sections": []
    },
    "kernelspec": {
      "name": "python3",
      "display_name": "Python 3"
    },
    "accelerator": "GPU"
  },
  "cells": [
    {
      "metadata": {
        "id": "pR2kwfHxSqeI",
        "colab_type": "text"
      },
      "cell_type": "markdown",
      "source": [
        "# Introduction to Deep Learning \n",
        "# Project 6\n",
        "This notebook illustrates the influence of activations hyperparameters such as RELU, tanh and sigmoid on the performance of convolutional neural networks.\n",
        "\n",
        "\n",
        "\n",
        "First we start using RELU that is the one mostly used.\n",
        "\n",
        "#ReLU\n",
        "\n"
      ]
    },
    {
      "metadata": {
        "id": "3pl0fjpiZ7Fg",
        "colab_type": "code",
        "outputId": "ea869648-278a-4a9c-a06c-e2f384a7c719",
        "colab": {
          "base_uri": "https://localhost:8080/",
          "height": 318
        }
      },
      "cell_type": "code",
      "source": [
        "!pip install pillow==5.4.1\n",
        "!pip install matplotlib\n",
        "!pip install scikit-learn\n",
        "!pip install torch\n",
        "!pip install torchvision"
      ],
      "execution_count": 0,
      "outputs": [
        {
          "output_type": "stream",
          "text": [
            "Requirement already satisfied: pillow==5.4.1 in /usr/local/lib/python3.6/dist-packages (5.4.1)\n",
            "Requirement already satisfied: matplotlib in /usr/local/lib/python3.6/dist-packages (3.0.2)\n",
            "Requirement already satisfied: numpy>=1.10.0 in /usr/local/lib/python3.6/dist-packages (from matplotlib) (1.14.6)\n",
            "Requirement already satisfied: python-dateutil>=2.1 in /usr/local/lib/python3.6/dist-packages (from matplotlib) (2.5.3)\n",
            "Requirement already satisfied: kiwisolver>=1.0.1 in /usr/local/lib/python3.6/dist-packages (from matplotlib) (1.0.1)\n",
            "Requirement already satisfied: cycler>=0.10 in /usr/local/lib/python3.6/dist-packages (from matplotlib) (0.10.0)\n",
            "Requirement already satisfied: pyparsing!=2.0.4,!=2.1.2,!=2.1.6,>=2.0.1 in /usr/local/lib/python3.6/dist-packages (from matplotlib) (2.3.1)\n",
            "Requirement already satisfied: six>=1.5 in /usr/local/lib/python3.6/dist-packages (from python-dateutil>=2.1->matplotlib) (1.11.0)\n",
            "Requirement already satisfied: setuptools in /usr/local/lib/python3.6/dist-packages (from kiwisolver>=1.0.1->matplotlib) (40.6.3)\n",
            "Requirement already satisfied: scikit-learn in /usr/local/lib/python3.6/dist-packages (0.20.2)\n",
            "Requirement already satisfied: numpy>=1.8.2 in /usr/local/lib/python3.6/dist-packages (from scikit-learn) (1.14.6)\n",
            "Requirement already satisfied: scipy>=0.13.3 in /usr/local/lib/python3.6/dist-packages (from scikit-learn) (1.1.0)\n",
            "Requirement already satisfied: torch in /usr/local/lib/python3.6/dist-packages (1.0.0)\n",
            "Requirement already satisfied: torchvision in /usr/local/lib/python3.6/dist-packages (0.2.1)\n",
            "Requirement already satisfied: numpy in /usr/local/lib/python3.6/dist-packages (from torchvision) (1.14.6)\n",
            "Requirement already satisfied: torch in /usr/local/lib/python3.6/dist-packages (from torchvision) (1.0.0)\n",
            "Requirement already satisfied: six in /usr/local/lib/python3.6/dist-packages (from torchvision) (1.11.0)\n",
            "Requirement already satisfied: pillow>=4.1.1 in /usr/local/lib/python3.6/dist-packages (from torchvision) (5.4.1)\n"
          ],
          "name": "stdout"
        }
      ]
    },
    {
      "metadata": {
        "id": "IOhhhJ-NaFdM",
        "colab_type": "code",
        "colab": {}
      },
      "cell_type": "code",
      "source": [
        "import matplotlib.pyplot as plt\n",
        "import math\n",
        "import torch\n",
        "import torch.nn as nn\n",
        "import torch.nn.functional as F\n",
        "import torch.optim as optim\n",
        "from torchvision import datasets, transforms"
      ],
      "execution_count": 0,
      "outputs": []
    },
    {
      "metadata": {
        "id": "Vrw0MM_naM2y",
        "colab_type": "code",
        "colab": {}
      },
      "cell_type": "code",
      "source": [
        "def train(log_interval, model, device, train_loader, optimizer, epoch):\n",
        "    losses = []\n",
        "    model.train()\n",
        "    for batch_idx, (data, target) in enumerate(train_loader):\n",
        "        data, target = data.to(device), target.to(device)\n",
        "        optimizer.zero_grad()\n",
        "        output = model(data)\n",
        "        loss = F.nll_loss(output, target)\n",
        "        loss.backward()\n",
        "        optimizer.step()\n",
        "        losses.append(loss.item())\n",
        "        if batch_idx % log_interval == 0:\n",
        "            print('Train Epoch: {} [{}/{} ({:.0f}%)]\\tLoss: {:.6f}'.format(\n",
        "                epoch, batch_idx * len(data), len(train_loader.dataset),\n",
        "                100. * batch_idx / len(train_loader), loss.item()))\n",
        "    return losses"
      ],
      "execution_count": 0,
      "outputs": []
    },
    {
      "metadata": {
        "id": "21CRMfMpb2ct",
        "colab_type": "code",
        "colab": {}
      },
      "cell_type": "code",
      "source": [
        "def validate(model, device, loader):\n",
        "    \n",
        "    model.eval()  # let's put the model in evaluation mode\n",
        "\n",
        "    validation_loss = 0\n",
        "    correct = 0\n",
        "    \n",
        "    with torch.no_grad():  # we don't need gradient computation at all\n",
        "        for data, target in loader:\n",
        "            data, target = data.to(device), target.to(device)\n",
        "            output = model(data)\n",
        "            validation_loss += F.nll_loss(output, target, reduction='sum').item() # sum up batch loss\n",
        "            pred = output.argmax(dim=1, keepdim=True) # get the index of the max log-probability\n",
        "            correct += pred.eq(target.view_as(pred)).sum().item()\n",
        "\n",
        "    validation_loss /= len(loader.dataset)\n",
        "\n",
        "    print('\\nValidation set: Average loss: {:.4f}, Accuracy: {}/{} ({:.0f}%)\\n'.format(\n",
        "        validation_loss, correct, len(loader.dataset),\n",
        "        100. * correct / len(loader.dataset)))\n",
        "    \n",
        "    return validation_loss"
      ],
      "execution_count": 0,
      "outputs": []
    },
    {
      "metadata": {
        "id": "C3vd2PLOdhKd",
        "colab_type": "code",
        "colab": {}
      },
      "cell_type": "code",
      "source": [
        "train_batch_size = 128\n",
        "\n",
        "mnist_mean = 0.1307\n",
        "mnist_stddev = 0.3081\n",
        "train_loader = torch.utils.data.DataLoader(\n",
        "    datasets.MNIST('./data',\n",
        "                   train=True,\n",
        "                   download=True,\n",
        "                   transform=transforms.Compose([\n",
        "                       transforms.ToTensor(),\n",
        "                       transforms.Normalize((mnist_mean,), (mnist_stddev,))\n",
        "                   ])),\n",
        "    batch_size=train_batch_size,\n",
        "    shuffle=True)\n",
        "\n",
        "valid_batch_size = 1000\n",
        "valid_loader = torch.utils.data.DataLoader(\n",
        "    datasets.MNIST('./data',\n",
        "                   train=False,\n",
        "                   transform=transforms.Compose([\n",
        "                       transforms.ToTensor(),\n",
        "                       transforms.Normalize((mnist_mean,), (mnist_stddev,))\n",
        "                   ])),\n",
        "    batch_size=valid_batch_size,\n",
        "    shuffle=True)"
      ],
      "execution_count": 0,
      "outputs": []
    },
    {
      "metadata": {
        "id": "t22QjDgmdhi7",
        "colab_type": "code",
        "colab": {}
      },
      "cell_type": "code",
      "source": [
        "def interation():\n",
        "  device = torch.device(\"cuda:0\" if torch.cuda.is_available() else \"cpu\")\n",
        "  model = Net().to(device)\n",
        "  optimizer = optim.SGD(model.parameters(), lr=0.01, momentum=0.5)\n",
        "\n",
        "  train_losses = []\n",
        "  valid_losses = []\n",
        "  valid_x = []\n",
        "  num_epochs = 10\n",
        "  for epoch in range(1, num_epochs + 1):\n",
        "      epoch_losses = train(80, model, device, train_loader, optimizer, epoch)\n",
        "      train_losses.extend(epoch_losses)\n",
        "      valid_loss = validate(model, device, valid_loader)\n",
        "      valid_losses.append([valid_loss])\n",
        "      valid_x.append(len(train_losses) - 1)\n",
        "\n",
        "  plt.gcf().clear()\n",
        "  plt.plot(train_losses, 'b-')\n",
        "  plt.plot(valid_x, valid_losses, 'r-')\n",
        "  plt.show()"
      ],
      "execution_count": 0,
      "outputs": []
    },
    {
      "metadata": {
        "id": "-li3gET1lP8G",
        "colab_type": "text"
      },
      "cell_type": "markdown",
      "source": [
        "Firstly, we keep the code as the original one."
      ]
    },
    {
      "metadata": {
        "id": "ZXBjA_tSdkIT",
        "colab_type": "code",
        "outputId": "c5a00002-fc25-4324-a935-0337ed948b8c",
        "colab": {
          "base_uri": "https://localhost:8080/",
          "height": 1852
        }
      },
      "cell_type": "code",
      "source": [
        "\n",
        "class Net(nn.Module):\n",
        "    def __init__(self):\n",
        "        super(Net, self).__init__()\n",
        "        self.conv1 = nn.Conv2d(1, 20, 5, 1)\n",
        "        self.conv2 = nn.Conv2d(20, 50, 5, 1)\n",
        "        self.fc1 = nn.Linear(4*4*50, 500)\n",
        "        self.fc2 = nn.Linear(500, 10)\n",
        "\n",
        "    def forward(self, x):\n",
        "        x = F.relu(self.conv1(x))\n",
        "        x = F.max_pool2d(x, 2, 2)\n",
        "        x = F.relu(self.conv2(x))\n",
        "        x = F.max_pool2d(x, 2, 2)\n",
        "        x = x.view(-1, 4*4*50)\n",
        "        x = F.relu(self.fc1(x))\n",
        "        x = self.fc2(x)\n",
        "        return F.log_softmax(x, dim=1)\n",
        "\n",
        "interation()"
      ],
      "execution_count": 0,
      "outputs": [
        {
          "output_type": "stream",
          "text": [
            "Train Epoch: 1 [0/60000 (0%)]\tLoss: 2.315674\n",
            "Train Epoch: 1 [10240/60000 (17%)]\tLoss: 0.610389\n",
            "Train Epoch: 1 [20480/60000 (34%)]\tLoss: 0.266129\n",
            "Train Epoch: 1 [30720/60000 (51%)]\tLoss: 0.312820\n",
            "Train Epoch: 1 [40960/60000 (68%)]\tLoss: 0.240668\n",
            "Train Epoch: 1 [51200/60000 (85%)]\tLoss: 0.262725\n",
            "\n",
            "Validation set: Average loss: 0.1589, Accuracy: 9540/10000 (95%)\n",
            "\n",
            "Train Epoch: 2 [0/60000 (0%)]\tLoss: 0.176403\n",
            "Train Epoch: 2 [10240/60000 (17%)]\tLoss: 0.156653\n",
            "Train Epoch: 2 [20480/60000 (34%)]\tLoss: 0.118064\n",
            "Train Epoch: 2 [30720/60000 (51%)]\tLoss: 0.098058\n",
            "Train Epoch: 2 [40960/60000 (68%)]\tLoss: 0.075628\n",
            "Train Epoch: 2 [51200/60000 (85%)]\tLoss: 0.068193\n",
            "\n",
            "Validation set: Average loss: 0.1015, Accuracy: 9683/10000 (97%)\n",
            "\n",
            "Train Epoch: 3 [0/60000 (0%)]\tLoss: 0.129884\n",
            "Train Epoch: 3 [10240/60000 (17%)]\tLoss: 0.063415\n",
            "Train Epoch: 3 [20480/60000 (34%)]\tLoss: 0.113627\n",
            "Train Epoch: 3 [30720/60000 (51%)]\tLoss: 0.060465\n",
            "Train Epoch: 3 [40960/60000 (68%)]\tLoss: 0.150884\n",
            "Train Epoch: 3 [51200/60000 (85%)]\tLoss: 0.057888\n",
            "\n",
            "Validation set: Average loss: 0.0689, Accuracy: 9785/10000 (98%)\n",
            "\n",
            "Train Epoch: 4 [0/60000 (0%)]\tLoss: 0.070744\n",
            "Train Epoch: 4 [10240/60000 (17%)]\tLoss: 0.108595\n",
            "Train Epoch: 4 [20480/60000 (34%)]\tLoss: 0.073907\n",
            "Train Epoch: 4 [30720/60000 (51%)]\tLoss: 0.066667\n",
            "Train Epoch: 4 [40960/60000 (68%)]\tLoss: 0.059021\n",
            "Train Epoch: 4 [51200/60000 (85%)]\tLoss: 0.014411\n",
            "\n",
            "Validation set: Average loss: 0.0619, Accuracy: 9808/10000 (98%)\n",
            "\n",
            "Train Epoch: 5 [0/60000 (0%)]\tLoss: 0.058737\n",
            "Train Epoch: 5 [10240/60000 (17%)]\tLoss: 0.065007\n",
            "Train Epoch: 5 [20480/60000 (34%)]\tLoss: 0.079662\n",
            "Train Epoch: 5 [30720/60000 (51%)]\tLoss: 0.027592\n",
            "Train Epoch: 5 [40960/60000 (68%)]\tLoss: 0.016073\n",
            "Train Epoch: 5 [51200/60000 (85%)]\tLoss: 0.029048\n",
            "\n",
            "Validation set: Average loss: 0.0511, Accuracy: 9824/10000 (98%)\n",
            "\n",
            "Train Epoch: 6 [0/60000 (0%)]\tLoss: 0.091583\n",
            "Train Epoch: 6 [10240/60000 (17%)]\tLoss: 0.107182\n",
            "Train Epoch: 6 [20480/60000 (34%)]\tLoss: 0.030855\n",
            "Train Epoch: 6 [30720/60000 (51%)]\tLoss: 0.014357\n",
            "Train Epoch: 6 [40960/60000 (68%)]\tLoss: 0.016620\n",
            "Train Epoch: 6 [51200/60000 (85%)]\tLoss: 0.059445\n",
            "\n",
            "Validation set: Average loss: 0.0534, Accuracy: 9838/10000 (98%)\n",
            "\n",
            "Train Epoch: 7 [0/60000 (0%)]\tLoss: 0.045222\n",
            "Train Epoch: 7 [10240/60000 (17%)]\tLoss: 0.055684\n",
            "Train Epoch: 7 [20480/60000 (34%)]\tLoss: 0.121381\n",
            "Train Epoch: 7 [30720/60000 (51%)]\tLoss: 0.013864\n",
            "Train Epoch: 7 [40960/60000 (68%)]\tLoss: 0.085223\n",
            "Train Epoch: 7 [51200/60000 (85%)]\tLoss: 0.023388\n",
            "\n",
            "Validation set: Average loss: 0.0399, Accuracy: 9866/10000 (99%)\n",
            "\n",
            "Train Epoch: 8 [0/60000 (0%)]\tLoss: 0.020045\n",
            "Train Epoch: 8 [10240/60000 (17%)]\tLoss: 0.060879\n",
            "Train Epoch: 8 [20480/60000 (34%)]\tLoss: 0.025047\n",
            "Train Epoch: 8 [30720/60000 (51%)]\tLoss: 0.073284\n",
            "Train Epoch: 8 [40960/60000 (68%)]\tLoss: 0.010647\n",
            "Train Epoch: 8 [51200/60000 (85%)]\tLoss: 0.057993\n",
            "\n",
            "Validation set: Average loss: 0.0376, Accuracy: 9878/10000 (99%)\n",
            "\n",
            "Train Epoch: 9 [0/60000 (0%)]\tLoss: 0.034775\n",
            "Train Epoch: 9 [10240/60000 (17%)]\tLoss: 0.081774\n",
            "Train Epoch: 9 [20480/60000 (34%)]\tLoss: 0.120830\n",
            "Train Epoch: 9 [30720/60000 (51%)]\tLoss: 0.036349\n",
            "Train Epoch: 9 [40960/60000 (68%)]\tLoss: 0.021696\n",
            "Train Epoch: 9 [51200/60000 (85%)]\tLoss: 0.030744\n",
            "\n",
            "Validation set: Average loss: 0.0406, Accuracy: 9859/10000 (99%)\n",
            "\n",
            "Train Epoch: 10 [0/60000 (0%)]\tLoss: 0.030598\n",
            "Train Epoch: 10 [10240/60000 (17%)]\tLoss: 0.038213\n",
            "Train Epoch: 10 [20480/60000 (34%)]\tLoss: 0.019826\n",
            "Train Epoch: 10 [30720/60000 (51%)]\tLoss: 0.022562\n",
            "Train Epoch: 10 [40960/60000 (68%)]\tLoss: 0.026884\n",
            "Train Epoch: 10 [51200/60000 (85%)]\tLoss: 0.059258\n",
            "\n",
            "Validation set: Average loss: 0.0369, Accuracy: 9871/10000 (99%)\n",
            "\n"
          ],
          "name": "stdout"
        },
        {
          "output_type": "display_data",
          "data": {
            "image/png": "[encoded data removed]",
            "text/plain": [
              "<Figure size 576x396 with 1 Axes>"
            ]
          },
          "metadata": {
            "tags": []
          }
        }
      ]
    },
    {
      "metadata": {
        "id": "7swoM25SlJuu",
        "colab_type": "text"
      },
      "cell_type": "markdown",
      "source": [
        "#SIGMOID\n",
        "Now we'll use the sigmoid function instead of the ReLU"
      ]
    },
    {
      "metadata": {
        "id": "Z-pd6n2mfPwp",
        "colab_type": "code",
        "outputId": "6f7f4156-ddc6-4a79-e1b0-23ebb62796bb",
        "colab": {
          "base_uri": "https://localhost:8080/",
          "height": 1852
        }
      },
      "cell_type": "code",
      "source": [
        "class Net(nn.Module):\n",
        "    def __init__(self):\n",
        "        super(Net, self).__init__()\n",
        "        self.conv1 = nn.Conv2d(1, 20, 5, 1)\n",
        "        self.conv2 = nn.Conv2d(20, 50, 5, 1)\n",
        "        self.fc1 = nn.Linear(4*4*50, 500)\n",
        "        self.fc2 = nn.Linear(500, 10)\n",
        "\n",
        "    def forward(self, x):\n",
        "        x = torch.sigmoid(self.conv1(x))\n",
        "        x = F.max_pool2d(x, 2, 2)\n",
        "        x = torch.sigmoid(self.conv2(x))\n",
        "        x = F.max_pool2d(x, 2, 2)\n",
        "        x = x.view(-1, 4*4*50)\n",
        "        x = torch.sigmoid(self.fc1(x))\n",
        "        x = self.fc2(x)\n",
        "        return F.log_softmax(x, dim=1)\n",
        "\n",
        "interation()"
      ],
      "execution_count": 0,
      "outputs": [
        {
          "output_type": "stream",
          "text": [
            "Train Epoch: 1 [0/60000 (0%)]\tLoss: 2.316687\n",
            "Train Epoch: 1 [10240/60000 (17%)]\tLoss: 2.298605\n",
            "Train Epoch: 1 [20480/60000 (34%)]\tLoss: 2.306064\n",
            "Train Epoch: 1 [30720/60000 (51%)]\tLoss: 2.286284\n",
            "Train Epoch: 1 [40960/60000 (68%)]\tLoss: 2.330697\n",
            "Train Epoch: 1 [51200/60000 (85%)]\tLoss: 2.295166\n",
            "\n",
            "Validation set: Average loss: 2.3043, Accuracy: 1135/10000 (11%)\n",
            "\n",
            "Train Epoch: 2 [0/60000 (0%)]\tLoss: 2.312109\n",
            "Train Epoch: 2 [10240/60000 (17%)]\tLoss: 2.314559\n",
            "Train Epoch: 2 [20480/60000 (34%)]\tLoss: 2.314693\n",
            "Train Epoch: 2 [30720/60000 (51%)]\tLoss: 2.302809\n",
            "Train Epoch: 2 [40960/60000 (68%)]\tLoss: 2.310541\n",
            "Train Epoch: 2 [51200/60000 (85%)]\tLoss: 2.305312\n",
            "\n",
            "Validation set: Average loss: 2.2999, Accuracy: 1135/10000 (11%)\n",
            "\n",
            "Train Epoch: 3 [0/60000 (0%)]\tLoss: 2.297501\n",
            "Train Epoch: 3 [10240/60000 (17%)]\tLoss: 2.307345\n",
            "Train Epoch: 3 [20480/60000 (34%)]\tLoss: 2.291492\n",
            "Train Epoch: 3 [30720/60000 (51%)]\tLoss: 2.302285\n",
            "Train Epoch: 3 [40960/60000 (68%)]\tLoss: 2.290897\n",
            "Train Epoch: 3 [51200/60000 (85%)]\tLoss: 2.287013\n",
            "\n",
            "Validation set: Average loss: 2.2957, Accuracy: 1010/10000 (10%)\n",
            "\n",
            "Train Epoch: 4 [0/60000 (0%)]\tLoss: 2.305028\n",
            "Train Epoch: 4 [10240/60000 (17%)]\tLoss: 2.295914\n",
            "Train Epoch: 4 [20480/60000 (34%)]\tLoss: 2.289229\n",
            "Train Epoch: 4 [30720/60000 (51%)]\tLoss: 2.282820\n",
            "Train Epoch: 4 [40960/60000 (68%)]\tLoss: 2.294377\n",
            "Train Epoch: 4 [51200/60000 (85%)]\tLoss: 2.305668\n",
            "\n",
            "Validation set: Average loss: 2.2846, Accuracy: 1358/10000 (14%)\n",
            "\n",
            "Train Epoch: 5 [0/60000 (0%)]\tLoss: 2.281330\n",
            "Train Epoch: 5 [10240/60000 (17%)]\tLoss: 2.268033\n",
            "Train Epoch: 5 [20480/60000 (34%)]\tLoss: 2.275428\n",
            "Train Epoch: 5 [30720/60000 (51%)]\tLoss: 2.283701\n",
            "Train Epoch: 5 [40960/60000 (68%)]\tLoss: 2.266485\n",
            "Train Epoch: 5 [51200/60000 (85%)]\tLoss: 2.269451\n",
            "\n",
            "Validation set: Average loss: 2.2525, Accuracy: 2778/10000 (28%)\n",
            "\n",
            "Train Epoch: 6 [0/60000 (0%)]\tLoss: 2.246935\n",
            "Train Epoch: 6 [10240/60000 (17%)]\tLoss: 2.250055\n",
            "Train Epoch: 6 [20480/60000 (34%)]\tLoss: 2.227832\n",
            "Train Epoch: 6 [30720/60000 (51%)]\tLoss: 2.212229\n",
            "Train Epoch: 6 [40960/60000 (68%)]\tLoss: 2.155365\n",
            "Train Epoch: 6 [51200/60000 (85%)]\tLoss: 2.120749\n",
            "\n",
            "Validation set: Average loss: 2.0925, Accuracy: 3290/10000 (33%)\n",
            "\n",
            "Train Epoch: 7 [0/60000 (0%)]\tLoss: 2.125032\n",
            "Train Epoch: 7 [10240/60000 (17%)]\tLoss: 2.002589\n",
            "Train Epoch: 7 [20480/60000 (34%)]\tLoss: 1.963653\n",
            "Train Epoch: 7 [30720/60000 (51%)]\tLoss: 1.869773\n",
            "Train Epoch: 7 [40960/60000 (68%)]\tLoss: 1.711944\n",
            "Train Epoch: 7 [51200/60000 (85%)]\tLoss: 1.754449\n",
            "\n",
            "Validation set: Average loss: 1.5887, Accuracy: 6191/10000 (62%)\n",
            "\n",
            "Train Epoch: 8 [0/60000 (0%)]\tLoss: 1.486798\n",
            "Train Epoch: 8 [10240/60000 (17%)]\tLoss: 1.441054\n",
            "Train Epoch: 8 [20480/60000 (34%)]\tLoss: 1.301248\n",
            "Train Epoch: 8 [30720/60000 (51%)]\tLoss: 1.335657\n",
            "Train Epoch: 8 [40960/60000 (68%)]\tLoss: 1.159894\n",
            "Train Epoch: 8 [51200/60000 (85%)]\tLoss: 1.142384\n",
            "\n",
            "Validation set: Average loss: 1.0209, Accuracy: 7388/10000 (74%)\n",
            "\n",
            "Train Epoch: 9 [0/60000 (0%)]\tLoss: 1.019741\n",
            "Train Epoch: 9 [10240/60000 (17%)]\tLoss: 1.066080\n",
            "Train Epoch: 9 [20480/60000 (34%)]\tLoss: 0.974493\n",
            "Train Epoch: 9 [30720/60000 (51%)]\tLoss: 0.846714\n",
            "Train Epoch: 9 [40960/60000 (68%)]\tLoss: 0.810468\n",
            "Train Epoch: 9 [51200/60000 (85%)]\tLoss: 0.734374\n",
            "\n",
            "Validation set: Average loss: 0.7126, Accuracy: 8076/10000 (81%)\n",
            "\n",
            "Train Epoch: 10 [0/60000 (0%)]\tLoss: 0.754450\n",
            "Train Epoch: 10 [10240/60000 (17%)]\tLoss: 0.739287\n",
            "Train Epoch: 10 [20480/60000 (34%)]\tLoss: 0.568060\n",
            "Train Epoch: 10 [30720/60000 (51%)]\tLoss: 0.611847\n",
            "Train Epoch: 10 [40960/60000 (68%)]\tLoss: 0.605133\n",
            "Train Epoch: 10 [51200/60000 (85%)]\tLoss: 0.610120\n",
            "\n",
            "Validation set: Average loss: 0.5673, Accuracy: 8372/10000 (84%)\n",
            "\n"
          ],
          "name": "stdout"
        },
        {
          "output_type": "display_data",
          "data": {
            "image/png": "[encoded data removed]",
            "text/plain": [
              "<Figure size 576x396 with 1 Axes>"
            ]
          },
          "metadata": {
            "tags": []
          }
        }
      ]
    },
    {
      "metadata": {
        "id": "wACU6lO-k988",
        "colab_type": "text"
      },
      "cell_type": "markdown",
      "source": [
        "\n",
        "#TANH\n",
        "Finally we initialize the activation function as the tanh"
      ]
    },
    {
      "metadata": {
        "id": "LnkRTcXHeCHT",
        "colab_type": "code",
        "outputId": "ce39d3d1-27d3-4e82-f99e-496e3256390e",
        "colab": {
          "base_uri": "https://localhost:8080/",
          "height": 1852
        }
      },
      "cell_type": "code",
      "source": [
        "class Net(nn.Module):\n",
        "    def __init__(self):\n",
        "        super(Net, self).__init__()\n",
        "        self.conv1 = nn.Conv2d(1, 20, 5, 1)\n",
        "        self.conv2 = nn.Conv2d(20, 50, 5, 1)\n",
        "        self.fc1 = nn.Linear(4*4*50, 500)\n",
        "        self.fc2 = nn.Linear(500, 10)\n",
        "\n",
        "    def forward(self, x):\n",
        "        x = torch.tanh(self.conv1(x))\n",
        "        x = F.max_pool2d(x, 2, 2)\n",
        "        x = torch.tanh(self.conv2(x))\n",
        "        x = F.max_pool2d(x, 2, 2)\n",
        "        x = x.view(-1, 4*4*50)\n",
        "        x = torch.tanh(self.fc1(x))\n",
        "        x = self.fc2(x)\n",
        "        return F.log_softmax(x, dim=1)\n",
        "\n",
        "interation()"
      ],
      "execution_count": 0,
      "outputs": [
        {
          "output_type": "stream",
          "text": [
            "Train Epoch: 1 [0/60000 (0%)]\tLoss: 2.295368\n",
            "Train Epoch: 1 [10240/60000 (17%)]\tLoss: 1.018193\n",
            "Train Epoch: 1 [20480/60000 (34%)]\tLoss: 0.607228\n",
            "Train Epoch: 1 [30720/60000 (51%)]\tLoss: 0.407750\n",
            "Train Epoch: 1 [40960/60000 (68%)]\tLoss: 0.467225\n",
            "Train Epoch: 1 [51200/60000 (85%)]\tLoss: 0.363601\n",
            "\n",
            "Validation set: Average loss: 0.2892, Accuracy: 9191/10000 (92%)\n",
            "\n",
            "Train Epoch: 2 [0/60000 (0%)]\tLoss: 0.389579\n",
            "Train Epoch: 2 [10240/60000 (17%)]\tLoss: 0.239416\n",
            "Train Epoch: 2 [20480/60000 (34%)]\tLoss: 0.216983\n",
            "Train Epoch: 2 [30720/60000 (51%)]\tLoss: 0.204278\n",
            "Train Epoch: 2 [40960/60000 (68%)]\tLoss: 0.279568\n",
            "Train Epoch: 2 [51200/60000 (85%)]\tLoss: 0.183474\n",
            "\n",
            "Validation set: Average loss: 0.1795, Accuracy: 9475/10000 (95%)\n",
            "\n",
            "Train Epoch: 3 [0/60000 (0%)]\tLoss: 0.146176\n",
            "Train Epoch: 3 [10240/60000 (17%)]\tLoss: 0.225116\n",
            "Train Epoch: 3 [20480/60000 (34%)]\tLoss: 0.150327\n",
            "Train Epoch: 3 [30720/60000 (51%)]\tLoss: 0.149964\n",
            "Train Epoch: 3 [40960/60000 (68%)]\tLoss: 0.193506\n",
            "Train Epoch: 3 [51200/60000 (85%)]\tLoss: 0.180791\n",
            "\n",
            "Validation set: Average loss: 0.1301, Accuracy: 9623/10000 (96%)\n",
            "\n",
            "Train Epoch: 4 [0/60000 (0%)]\tLoss: 0.106058\n",
            "Train Epoch: 4 [10240/60000 (17%)]\tLoss: 0.122168\n",
            "Train Epoch: 4 [20480/60000 (34%)]\tLoss: 0.110032\n",
            "Train Epoch: 4 [30720/60000 (51%)]\tLoss: 0.166800\n",
            "Train Epoch: 4 [40960/60000 (68%)]\tLoss: 0.119834\n",
            "Train Epoch: 4 [51200/60000 (85%)]\tLoss: 0.132690\n",
            "\n",
            "Validation set: Average loss: 0.1023, Accuracy: 9696/10000 (97%)\n",
            "\n",
            "Train Epoch: 5 [0/60000 (0%)]\tLoss: 0.073432\n",
            "Train Epoch: 5 [10240/60000 (17%)]\tLoss: 0.045217\n",
            "Train Epoch: 5 [20480/60000 (34%)]\tLoss: 0.075124\n",
            "Train Epoch: 5 [30720/60000 (51%)]\tLoss: 0.093617\n",
            "Train Epoch: 5 [40960/60000 (68%)]\tLoss: 0.077287\n",
            "Train Epoch: 5 [51200/60000 (85%)]\tLoss: 0.121406\n",
            "\n",
            "Validation set: Average loss: 0.0852, Accuracy: 9755/10000 (98%)\n",
            "\n",
            "Train Epoch: 6 [0/60000 (0%)]\tLoss: 0.114577\n",
            "Train Epoch: 6 [10240/60000 (17%)]\tLoss: 0.123525\n",
            "Train Epoch: 6 [20480/60000 (34%)]\tLoss: 0.126299\n",
            "Train Epoch: 6 [30720/60000 (51%)]\tLoss: 0.089712\n",
            "Train Epoch: 6 [40960/60000 (68%)]\tLoss: 0.072035\n",
            "Train Epoch: 6 [51200/60000 (85%)]\tLoss: 0.084122\n",
            "\n",
            "Validation set: Average loss: 0.0734, Accuracy: 9790/10000 (98%)\n",
            "\n",
            "Train Epoch: 7 [0/60000 (0%)]\tLoss: 0.141694\n",
            "Train Epoch: 7 [10240/60000 (17%)]\tLoss: 0.053382\n",
            "Train Epoch: 7 [20480/60000 (34%)]\tLoss: 0.069344\n",
            "Train Epoch: 7 [30720/60000 (51%)]\tLoss: 0.093828\n",
            "Train Epoch: 7 [40960/60000 (68%)]\tLoss: 0.061972\n",
            "Train Epoch: 7 [51200/60000 (85%)]\tLoss: 0.050033\n",
            "\n",
            "Validation set: Average loss: 0.0655, Accuracy: 9812/10000 (98%)\n",
            "\n",
            "Train Epoch: 8 [0/60000 (0%)]\tLoss: 0.115719\n",
            "Train Epoch: 8 [10240/60000 (17%)]\tLoss: 0.118291\n",
            "Train Epoch: 8 [20480/60000 (34%)]\tLoss: 0.098407\n",
            "Train Epoch: 8 [30720/60000 (51%)]\tLoss: 0.059122\n",
            "Train Epoch: 8 [40960/60000 (68%)]\tLoss: 0.045811\n",
            "Train Epoch: 8 [51200/60000 (85%)]\tLoss: 0.102656\n",
            "\n",
            "Validation set: Average loss: 0.0588, Accuracy: 9822/10000 (98%)\n",
            "\n",
            "Train Epoch: 9 [0/60000 (0%)]\tLoss: 0.088433\n",
            "Train Epoch: 9 [10240/60000 (17%)]\tLoss: 0.039712\n",
            "Train Epoch: 9 [20480/60000 (34%)]\tLoss: 0.080950\n",
            "Train Epoch: 9 [30720/60000 (51%)]\tLoss: 0.061813\n",
            "Train Epoch: 9 [40960/60000 (68%)]\tLoss: 0.066902\n",
            "Train Epoch: 9 [51200/60000 (85%)]\tLoss: 0.087584\n",
            "\n",
            "Validation set: Average loss: 0.0543, Accuracy: 9839/10000 (98%)\n",
            "\n",
            "Train Epoch: 10 [0/60000 (0%)]\tLoss: 0.070170\n",
            "Train Epoch: 10 [10240/60000 (17%)]\tLoss: 0.059743\n",
            "Train Epoch: 10 [20480/60000 (34%)]\tLoss: 0.092194\n",
            "Train Epoch: 10 [30720/60000 (51%)]\tLoss: 0.101974\n",
            "Train Epoch: 10 [40960/60000 (68%)]\tLoss: 0.040408\n",
            "Train Epoch: 10 [51200/60000 (85%)]\tLoss: 0.113065\n",
            "\n",
            "Validation set: Average loss: 0.0504, Accuracy: 9849/10000 (98%)\n",
            "\n"
          ],
          "name": "stdout"
        },
        {
          "output_type": "display_data",
          "data": {
            "image/png": "[encoded data removed]",
            "text/plain": [
              "<Figure size 576x396 with 1 Axes>"
            ]
          },
          "metadata": {
            "tags": []
          }
        }
      ]
    },
    {
      "metadata": {
        "id": "FUvml-Uukp2O",
        "colab_type": "text"
      },
      "cell_type": "markdown",
      "source": [
        "We have done a power point to explain better our results:\n",
        "https://docs.google.com/presentation/d/11M8JNpGA1VUtPTzTEUFSUCbYJ_OOxxYuhr3MfnLZEV0/edit?usp=sharing"
      ]
    },
    {
      "metadata": {
        "id": "2AsTDVIZkwAI",
        "colab_type": "code",
        "colab": {}
      },
      "cell_type": "code",
      "source": [
        ""
      ],
      "execution_count": 0,
      "outputs": []
    }
  ]
}